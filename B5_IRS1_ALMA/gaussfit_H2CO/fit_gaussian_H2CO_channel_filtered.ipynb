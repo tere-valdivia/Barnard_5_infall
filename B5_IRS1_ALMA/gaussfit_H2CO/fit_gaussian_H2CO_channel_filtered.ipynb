{
 "cells": [
  {
   "cell_type": "markdown",
   "id": "7b51a1b3",
   "metadata": {
    "tags": []
   },
   "source": [
    "# Gaussian fit to the spectra of ALMA H$_2$CO($3_{0,3} - 2_{0,2}$) with channels filtered due to missing zero-spacing data\n",
    "\n",
    "We just combined the two files (the one with the channels filtered out and the one without), we tested this code and it gives the same results for the unfiltered and filtered data. \n",
    "\n",
    "We now need to run it with the new range of filtered channels and the criteria of the uncertainty of the central velocities.\n",
    "\n",
    "Be careful, when you do the fit with all channels, we do not need in the quality assessment to take out the peaks that are within masked channels!\n",
    "\n",
    "For the all_chans, the 5 sigma threshold for the quality assessment is best. For the fit that masks the central chans, a 3 sigma proved to be best."
   ]
  },
  {
   "cell_type": "code",
   "execution_count": 1,
   "id": "cf542db2",
   "metadata": {},
   "outputs": [
    {
     "name": "stderr",
     "output_type": "stream",
     "text": [
      "block_reduce was moved to the astropy.nddata.blocks module.  Please update your import statement.\n"
     ]
    }
   ],
   "source": [
    "%matplotlib inline\n",
    "import pyspeckit\n",
    "import numpy as np\n",
    "import astropy.units as u\n",
    "from astropy.wcs import WCS\n",
    "from astropy.io import fits\n",
    "from spectral_cube import SpectralCube\n",
    "from skimage.morphology import remove_small_objects, closing, disk, opening, remove_small_holes, dilation\n",
    "import os\n",
    "import sys\n",
    "sys.path.append('../../B5_NOEMA_30m')\n",
    "import matplotlib.pyplot as plt\n",
    "import aplpy\n",
    "from B5setup import *\n",
    "from scipy.interpolate import griddata"
   ]
  },
  {
   "cell_type": "markdown",
   "id": "47706419",
   "metadata": {
    "tags": []
   },
   "source": [
    "## Preparation of the data\n",
    "\n",
    "This part must be run for any of the independent sections to work"
   ]
  },
  {
   "cell_type": "code",
   "execution_count": 2,
   "id": "8c8f58e6",
   "metadata": {},
   "outputs": [],
   "source": [
    "verbosity = False\n",
    "mask_missing_scale_chans = True # always do a full run with false first\n",
    "# Where we estimate the line is\n",
    "velinit = 8.0\n",
    "velend = 12.0\n",
    "velinitrms = 5.9\n",
    "# where extended emission is dominant\n",
    "velinit_zero = 9.7 # was 9.6\n",
    "velend_zero = 10.3 # was 10.4, \n",
    "\n",
    "starting_point = (141,139) #x, y\n",
    "snratio = 5\n",
    "snratio_qa = 3\n",
    "multicore = 40\n",
    "minsizetrim = 50\n",
    "maxsigma = 0.31 #0.45\n",
    "\n",
    "\n",
    "imagefile_original = \"B5IRS1_H2COa_robust05_multi_3_cut.fits\" # we will use the non-pbcor\n",
    "imagefile = \"B5IRS1_H2COa_robust05_multi_3_cut_K\"\n",
    "imagefilecorr = imagefile + '_contcorrected'\n",
    "imagefilecontinuum = imagefile + '_continuum.fits'\n",
    "\n",
    "rmsfile = imagefilecorr + '_rms'\n",
    "snrfile = imagefilecorr + '_snr'\n",
    "tpeakfile = imagefilecorr + '_Tpeak'\n",
    "maskfile = imagefilecorr + '_mask'\n",
    "\n",
    "fitfile =  imagefilecorr + '_1G_fitparams.fits'\n",
    "newguessfile = imagefilecorr + '_1G_fitparams_guesses.fits'\n",
    "fitfile2 = imagefilecorr + '_1G_fitparams_2.fits'\n",
    "fitfile2filtered = imagefilecorr + '_1G_fitparams_2_filtered.fits'\n",
    "fitfile2filteredTpeak = imagefilecorr + '_1G_fitparams_2_filtered_Tpeak.fits'\n",
    "fitfile2filteredVlsr = imagefilecorr + '_1G_fitparams_2_filtered_Vlsr.fits'\n",
    "fitfile2filteredSigmaV = imagefilecorr + '_1G_fitparams_2_filtered_SigmaV.fits'\n",
    "\n",
    "fitfile2G = imagefilecorr +'_2G_fitparams.fits'\n",
    "fitfile2Gfiltered =  imagefilecorr + '_2G_fitparams_filtered.fits'\n",
    "newguessfile2G = imagefilecorr + '_2G_fitparams_guesses.fits'\n",
    "fitfile22G = imagefilecorr + '_2G_fitparams_2.fits'\n",
    "fitfile22Gfiltered = imagefilecorr + '_2G_fitparams_2_filtered.fits'\n",
    "fitfile22GfilteredTpeak = imagefilecorr + '_2G_fitparams_2_filtered_Tpeak.fits'\n",
    "fitfile22GfilteredVlsr = imagefilecorr + '_2G_fitparams_2_filtered_Vlsr.fits'\n",
    "fitfile22GfilteredSigmaV = imagefilecorr + '_2G_fitparams_2_sigmafiltered_SigmaV.fits'\n",
    "\n",
    "fitfile3G =  imagefilecorr + '_3G_fitparams.fits'\n",
    "fitfile3Gfiltered =  imagefilecorr + '_3G_fitparams_filtered.fits'\n",
    "newguessfile3G = imagefilecorr + '_3G_fitparams_guesses.fits'\n",
    "fitfile23G = imagefilecorr + '_3G_fitparams_2.fits'\n",
    "fitfile23Gfiltered = imagefilecorr + '_3G_fitparams_2_filtered.fits'\n",
    "\n",
    "if mask_missing_scale_chans:\n",
    "    # this is the folder path we add for the ones that have channels masked\n",
    "    folder = 'central_chans_masked/'\n",
    "    \n",
    "    # we edit just in case it is true\n",
    "    # now the mask is different, is 3D, as we need to mask out certain channels\n",
    "    maskfile = folder + maskfile\n",
    "\n",
    "    imagefilecorrmasked = folder + imagefilecorr +'_masked.fits'\n",
    "    fitfile =  folder + fitfile\n",
    "    initguessfile1G = 'all_chans/' + imagefilecorr + '_1G_fitparams_2_filtered.fits' # when we use this file, there are less gnorm errors and the quality of the fit is greater (more points are fitted)\n",
    "    newguessfile = folder + newguessfile\n",
    "    fitfile2 = folder + fitfile2\n",
    "    fitfile2filtered = folder + fitfile2filtered\n",
    "    fitfile2filteredTpeak = folder + fitfile2filteredTpeak\n",
    "    fitfile2filteredVlsr = folder + fitfile2filteredVlsr\n",
    "    fitfile2filteredSigmaV = folder + fitfile2filteredSigmaV  \n",
    "    \n",
    "    fitfile2G = folder + fitfile2G\n",
    "    fitfile2Gfiltered = folder + fitfile2Gfiltered\n",
    "    initguessfile2G = 'all_chans/' + imagefilecorr + '_2G_fitparams_2_filtered.fits' # we use the results of the non-masked channels fits as initguesses\n",
    "    newguessfile2G = folder + newguessfile2G\n",
    "    fitfile22G = folder + fitfile22G\n",
    "    fitfile22Gfiltered = folder + fitfile22Gfiltered\n",
    "    fitfile22GfilteredTpeak = folder + fitfile22GfilteredTpeak\n",
    "    fitfile22GfilteredVlsr = folder + fitfile22GfilteredVlsr\n",
    "    fitfile22GfilteredSigmaV = folder +  fitfile22GfilteredSigmaV\n",
    "    \n",
    "    fitfile3G =  folder + fitfile3G\n",
    "    fitfile3Gfiltered =  folder + fitfile3Gfiltered\n",
    "    initguessfile3G = 'all_chans/' + imagefilecorr + '_3G_fitparams_guesses.fits' # we use the guesses of the non-masked channels fits as initguesses\n",
    "    newguessfile3G = folder + newguessfile3G\n",
    "    fitfile23G = folder + fitfile23G\n",
    "    fitfile23Gfiltered = folder + fitfile23Gfiltered\n",
    "    "
   ]
  },
  {
   "cell_type": "code",
   "execution_count": 3,
   "id": "2d6aac1b-5893-4247-8484-7cccda3f8841",
   "metadata": {},
   "outputs": [],
   "source": [
    "# convert the file from Jy/beam to k\n",
    "if not os.path.exists(imagefile+'.fits'):\n",
    "    print('Creating file in K')\n",
    "    imagecube = SpectralCube.read(imagefile_original).with_spectral_unit(u.km/u.s)\n",
    "    kelvincube = imagecube.to(u.K)\n",
    "    kelvincube.hdu.writeto(imagefile+'.fits')"
   ]
  },
  {
   "cell_type": "code",
   "execution_count": 4,
   "id": "cc8c1e85-37b4-4705-a2da-589419e4229e",
   "metadata": {},
   "outputs": [],
   "source": [
    "# we try the continuum corrected fitting\n",
    "if not os.path.exists(imagefilecorr + '.fits'):\n",
    "    print('Creating continuum correct')\n",
    "    cube = SpectralCube.read(imagefile + '.fits')    \n",
    "    spectral_axis = cube.spectral_axis\n",
    "    good_channels = (spectral_axis < 7.8 * u.km / u.s) | (spectral_axis > 12.5 * u.km / u.s)  \n",
    "    masked_cube = cube.with_mask(good_channels[:, np.newaxis, np.newaxis])  \n",
    "    med = masked_cube.median(axis=0)\n",
    "    if not os.path.exists(imagefilecontinuum):\n",
    "        med.write(imagefilecontinuum)\n",
    "    med_subcube = cube - med\n",
    "    med_subcube.write(imagefilecorr + '.fits')\n",
    "\n",
    "cube = pyspeckit.Cube(imagefilecorr + '.fits')\n"
   ]
  },
  {
   "cell_type": "code",
   "execution_count": 5,
   "id": "5927d1c1-6284-460b-bb9e-6b29d7e887a6",
   "metadata": {},
   "outputs": [
    {
     "name": "stdout",
     "output_type": "stream",
     "text": [
      "Loaded initial files: Tpeak, rms, SNR\n"
     ]
    }
   ],
   "source": [
    "header = cube.header\n",
    "hdcube = cube.header.copy()\n",
    "wcs = WCS(header)\n",
    "key_remove = ['NAXIS3','CRPIX3','CDELT3','CUNIT3','CTYPE3','CRVAL3','SPECSYS']\n",
    "for key_i in key_remove:\n",
    "    hdcube.remove(key_i)\n",
    "hdcube['WCSAXES'] = 2\n",
    "hdcube['NAXIS'] = 2\n",
    "\n",
    "if not os.path.exists(rmsfile+'.fits'):\n",
    "    rmsmap = cube.slice(velinitrms, velinit, unit='km/s').cube.std(axis=0)\n",
    "    fits.writeto(rmsfile+'.fits', rmsmap, hdcube)\n",
    "    print('Created RMS file')\n",
    "else:\n",
    "    rmsmap = fits.getdata(rmsfile+'.fits')\n",
    "\n",
    "if not os.path.exists(tpeakfile+'.fits'):\n",
    "    Tpeakmap = cube.slice(velinit, velend, unit='km/s').cube.max(axis=0)\n",
    "    fits.writeto(tpeakfile+'.fits', Tpeakmap, hdcube)\n",
    "    print('Created Tpeak file')\n",
    "else:\n",
    "    Tpeakmap = fits.getdata(tpeakfile+'.fits')\n",
    "\n",
    "if not os.path.exists(snrfile+'.fits'):\n",
    "    snrmap = Tpeakmap / rmsmap\n",
    "    hdcubesnr = hdcube.copy()\n",
    "    hdcubesnr['BUNIT'] = ''\n",
    "    fits.writeto(snrfile+'.fits', snrmap, hdcubesnr)\n",
    "    print('Created SNR file')\n",
    "else:\n",
    "    snrmap = fits.getdata(snrfile+'.fits')\n",
    "\n",
    "print('Loaded initial files: Tpeak, rms, SNR')\n",
    "    "
   ]
  },
  {
   "cell_type": "code",
   "execution_count": 6,
   "id": "7bbaf65c",
   "metadata": {
    "scrolled": true
   },
   "outputs": [
    {
     "name": "stdout",
     "output_type": "stream",
     "text": [
      "Loading 2D mask file\n",
      "Loaded cube with channels with missing zero-spacing emission masked.\n",
      "Added 2D mask to cube.maskmap\n",
      "Loaded initial files: Tpeak, rms, SNR\n"
     ]
    }
   ],
   "source": [
    "if not os.path.exists(maskfile+'.fits'):\n",
    "    print(\"Creating mask file\")\n",
    "    planemask = (snrmap > snratio)\n",
    "    # check the resulting mask map to see how much does the minimum size have to be and its connectivity\n",
    "    # before applying this filter\n",
    "    planemask = remove_small_objects(planemask, min_size=minsizetrim)\n",
    "    planemask = remove_small_holes(planemask, area_threshold=minsizetrim)\n",
    "    planemask = closing(planemask, disk(3))\n",
    "    planemask = remove_small_holes(planemask, area_threshold=minsizetrim*4)\n",
    "    planemask = opening(planemask, disk(4))\n",
    "    # we just save this mask as a plane\n",
    "    hdcube['BUNIT'] = ''\n",
    "    fits.writeto(maskfile+'.fits', planemask.astype(int), hdcube)\n",
    "    print(\"Wrote 2D mask file\")\n",
    "\n",
    "else:\n",
    "    print(\"Loading 2D mask file\")\n",
    "    planemask = fits.getdata(maskfile+'.fits').astype(bool)\n",
    "\n",
    "if mask_missing_scale_chans:\n",
    "    if not os.path.exists(imagefilecorrmasked):\n",
    "        data = cube.cube\n",
    "        planeinit, planeend = wcs.spectral.all_world2pix([[velend_zero*1e3], [velinit_zero*1e3]], 0)\n",
    "        data[int(planeinit):int(planeend), :, :] = np.nan\n",
    "        fits.writeto(imagefilecorrmasked, data, cube.header)\n",
    "    cube = pyspeckit.Cube(imagefilecorrmasked)\n",
    "    print(\"Loaded cube with channels with missing zero-spacing emission masked.\")\n",
    "\n",
    "cube.maskmap = planemask\n",
    "print(\"Added 2D mask to cube.maskmap\")\n",
    "\n",
    "print('Loaded initial files: Tpeak, rms, SNR')\n",
    "    "
   ]
  },
  {
   "cell_type": "markdown",
   "id": "110c2dd1-62cd-497a-a34e-f45125e5b803",
   "metadata": {
    "tags": []
   },
   "source": [
    "## Functions\n",
    "\n",
    "These functions will allow to filter and interpolate solutions. Also must be run for the independent sections to work"
   ]
  },
  {
   "cell_type": "markdown",
   "id": "0184fb12-3ad8-4bb7-ad30-5c72b0dabc49",
   "metadata": {
    "tags": []
   },
   "source": [
    "### Quality assessment filter for Gaussian fittings"
   ]
  },
  {
   "cell_type": "code",
   "execution_count": 7,
   "id": "7b435c37",
   "metadata": {},
   "outputs": [],
   "source": [
    "def filtersolutions(parcube, errcube, npeaks, rmsmap=None, snratio=None, \n",
    "                    velinit=-np.inf, velend=np.inf, filter_negative=False, \n",
    "                    errorfrac=None, eps=1.e-6, filter_islands=False, \n",
    "                    minsizetrim=50, chansize=0.08, masked_chans=False, \n",
    "                    velinit_mask=None, velend_mask=None):\n",
    "    \"\"\"\n",
    "    Replace the pixels in the fitted cube with np.nan where the fit is not\n",
    "    good enough according to our criteria.\n",
    "\n",
    "    The criteria that a pixel must have are:\n",
    "    - The errors are not zero (less than eps)\n",
    "    - The peak must not be negative in case filter_negatives is true\n",
    "    - The error fraction is lower than errorfrac, if given\n",
    "    - The central velocity value must be within the range [velinit,velend]\n",
    "    - The peak value must be larger than rms times snratio, if given\n",
    "    - If one parameter in a spectra is np.nan, all the spectra must be nan (sanity\n",
    "    check)\n",
    "    - NEW 10.5.22: the uncertainty in the central velocity must be smaller than the channel width\n",
    "    - NEW 11.5.22: if we masked certain channels, the central velocity of the components must not be within those channels\n",
    "\n",
    "    Args:\n",
    "        variable (type): description\n",
    "\n",
    "    Returns:\n",
    "        type: description\n",
    "\n",
    "    Raises:\n",
    "        Exception: description\n",
    "\n",
    "    \"\"\"\n",
    "    # we first create all the masks we need\n",
    "    \n",
    "    # all errors must be non zero\n",
    "    # note that eps must be larger than the velocity dispersion\n",
    "    zeromask = np.zeros(np.shape(parcube[0]), dtype=int) # we need to do a plane mask\n",
    "    for i in range(3*npeaks):\n",
    "        zeromask += np.where(np.abs(errcube[i])<eps, 1, 0)\n",
    "        \n",
    "    # if a fraction is given, make sure all values have an error fraction less than that\n",
    "    errormask = np.zeros(np.shape(parcube[0]), dtype=int)\n",
    "    if errorfrac is not None:\n",
    "        for i in range(3*npeaks):\n",
    "            errormask += np.where(np.abs(errcube[i]/parcube[i]) > errorfrac, 1, 0)\n",
    "            \n",
    "    \n",
    "    # if indicated, all values must be non-negative\n",
    "    negativemask = np.zeros(np.shape(zeromask), dtype=int)\n",
    "    if filter_negative:\n",
    "        for i in range(3*npeaks):\n",
    "            negativemask += np.where(parcube[i] < 0, 1, 0)\n",
    "    \n",
    "    # velocities must be within range\n",
    "    velocitymask = np.zeros(np.shape(zeromask), dtype=int)\n",
    "    for i in range(npeaks):\n",
    "        velocitymask += np.where(parcube[1+3*i] < velinit, 1, 0) + \\\n",
    "        np.where(parcube[1+3*i] > velend, 1, 0)\n",
    "    \n",
    "    # the amplitude of the Gaussian must be above the snratio indicated\n",
    "    peakmask = np.zeros(np.shape(zeromask), dtype=int)\n",
    "    if snratio is not None and rmsmap is not None:\n",
    "        for i in range(npeaks):\n",
    "            snrmappeak = parcube[3*i] / rmsmap\n",
    "            peakmask += np.where(snrmappeak < snratio, 1, 0)\n",
    "    \n",
    "    # all values of parameters and uncertainties must be not NaN\n",
    "    nanmask = np.zeros(np.shape(zeromask), dtype=int)\n",
    "    for i in range(3*npeaks):\n",
    "        nanmask += np.where(np.isnan(parcube[i]), 1, 0) + np.where(np.isnan(errcube[i]), 1, 0)\n",
    "    \n",
    "    # central velocity uncertainty must be lower than\n",
    "    centraluncertaintymask = np.zeros(np.shape(zeromask), dtype=int)\n",
    "    for i in range(npeaks):\n",
    "        velocitymask += np.where(errcube[1+3*i] > chansize, 1, 0)\n",
    "        \n",
    "    # if indicated, the central velocities must not be within masked channels\n",
    "    maskedchansmask = np.zeros(np.shape(zeromask), dtype=int)\n",
    "    if masked_chans:\n",
    "        for i in range(npeaks):\n",
    "            maskedchansmask += np.where(parcube[1+3*i] > velinit_mask, 1, 0) * np.where(parcube[1+3*i] < velend_mask, 1, 0)\n",
    "    \n",
    "    finalmask = zeromask + errormask + negativemask + velocitymask + peakmask + nanmask + centraluncertaintymask + maskedchansmask\n",
    "    \n",
    "    parcubenew = parcube.copy()\n",
    "    errcubenew = errcube.copy()\n",
    "    parcubenew[np.where(np.repeat([finalmask], 3*npeaks, axis=0))] = np.nan\n",
    "    errcubenew[np.where(np.repeat([finalmask], 3*npeaks, axis=0))] = np.nan   \n",
    "    \n",
    "    # eliminate isolated small islands of emission after the filter\n",
    "    if filter_islands:        \n",
    "        planemask = ~np.isnan(parcubenew[0])\n",
    "        planemask = remove_small_objects(planemask, min_size=minsizetrim)\n",
    "        smallmask = np.ones(np.shape(planemask), dtype=int) - planemask\n",
    "        parcubenew[np.where(np.repeat([smallmask], 3*npeaks, axis=0))] = np.nan\n",
    "        errcubenew[np.where(np.repeat([smallmask], 3*npeaks, axis=0))] = np.nan\n",
    "    \n",
    "    return parcubenew, errcubenew\n"
   ]
  },
  {
   "cell_type": "markdown",
   "id": "73cd03f3-cacf-4d37-8e57-7b20a312aee8",
   "metadata": {
    "tags": []
   },
   "source": [
    "### Interpolation of parameters to obtain improved initial guesses"
   ]
  },
  {
   "cell_type": "code",
   "execution_count": 8,
   "id": "17373163-9da2-4217-8edc-2d30607e42ad",
   "metadata": {},
   "outputs": [],
   "source": [
    "# as each plane represents a different physical characteristic, and they do not necessarilly \n",
    "# correlate between each other, each plane of initguesses must be fit separately\n",
    "def interpolatesolutions(solfilein, npeaks, mask=None):\n",
    "    '''\n",
    "    The solfilein must be a .fits file that contains one parameter per \n",
    "    plane and then one parameter uncertainty per plane.\n",
    "    The shape must be [nplane, yy, xx]\n",
    "    The mask must be 2 dimensional\n",
    "    '''\n",
    "    solcube = fits.getdata(solfilein)[:3*npeaks]\n",
    "    if np.any(np.isnan(solcube)):\n",
    "        solcube[np.where(np.isnan(solcube))] = 0\n",
    "    solcubeshape = np.shape(solcube)\n",
    "    yy, xx = np.indices(solcubeshape[1:])\n",
    "    filledcube = solcube.copy()\n",
    "    headersolcube = fits.getheader(solfilein)\n",
    "\n",
    "    for i, plane in enumerate(solcube):\n",
    "        indexknown = np.where(plane<1e-5, False, True)\n",
    "        filledcube[i][~indexknown] = griddata((xx[indexknown], yy[indexknown]),\n",
    "                                                  plane[indexknown],\n",
    "                                                  (xx[~indexknown], yy[~indexknown])\n",
    "                                                 )\n",
    "        if mask is not None:\n",
    "            filledcube[i][np.where(mask==0)] = np.nan\n",
    "    return filledcube, headersolcube\n"
   ]
  },
  {
   "cell_type": "markdown",
   "id": "30bdbe43-ec0a-4e13-8550-f15d06b7fc23",
   "metadata": {
    "tags": []
   },
   "source": [
    "## 1 Gaussian fit"
   ]
  },
  {
   "cell_type": "markdown",
   "id": "abce54f4",
   "metadata": {
    "tags": []
   },
   "source": [
    "### First fit: initial guesses fixed"
   ]
  },
  {
   "cell_type": "code",
   "execution_count": 9,
   "id": "4eef994a",
   "metadata": {},
   "outputs": [
    {
     "name": "stdout",
     "output_type": "stream",
     "text": [
      "Fit exists. Loading\n"
     ]
    },
    {
     "name": "stderr",
     "output_type": "stream",
     "text": [
      "NaN or infinite values encountered in parameter cube.\n",
      "Warning: converting a masked element to nan.\n"
     ]
    },
    {
     "name": "stdout",
     "output_type": "stream",
     "text": [
      "INFO: Left region selection unchanged.  xminpix, xmaxpix: 0,100 [pyspeckit.spectrum.interactive]\n",
      "INFO: Left region selection unchanged.  xminpix, xmaxpix: 0,100 [pyspeckit.spectrum.interactive]\n"
     ]
    }
   ],
   "source": [
    "# initial guesses for the first two gaussian fit\n",
    "\n",
    "# if mask_missing_scale_chans:\n",
    "#     initguesses = [10.0, 9.6, 0.8]\n",
    "if mask_missing_scale_chans:\n",
    "    initguesses, headerguess = interpolatesolutions(initguessfile1G, 1, mask=planemask)\n",
    "else:\n",
    "    initguesses = [10.0, 10.2, 0.8]\n",
    "limitedmin = [True, True, True]\n",
    "limitedmax = [False, True, False]\n",
    "limitsmin = [0, velinit, 0]\n",
    "limitsmax = [0, velend, velend-velinit]\n",
    "\n",
    "if not os.path.exists(fitfile):\n",
    "    print(\"Starting fit\")\n",
    "    cube.fiteach(fittype='gaussian',\n",
    "                 guesses=initguesses,\n",
    "                 signal_cut=snratio,\n",
    "                 errmap = rmsmap,\n",
    "                 limitedmin=limitedmin,\n",
    "                 limitedmax=limitedmax,\n",
    "                 minpars=limitsmin,\n",
    "                 maxpars=limitsmax,\n",
    "                 use_neighbor_as_guess=True, \n",
    "                 start_from_point=starting_point,\n",
    "                 verbose=verbosity,\n",
    "                 verbose_level=1,\n",
    "                 multicore=multicore)\n",
    "    cube.write_fit(fitfile)\n",
    "    fittedmodel = cube.get_modelcube()\n",
    "    \n",
    "else:\n",
    "    print(\"Fit exists. Loading\")\n",
    "    cube.load_model_fit(fitfile, 3, fittype='gaussian')"
   ]
  },
  {
   "cell_type": "markdown",
   "id": "4ac155c8",
   "metadata": {
    "tags": []
   },
   "source": [
    "### Second fit: Extrapolation\n",
    "\n",
    "We do not do a quality assesment yet. We extrapolate the best fit results to fill in the gaps in the mask"
   ]
  },
  {
   "cell_type": "code",
   "execution_count": 10,
   "id": "a1b6019f-5694-45ab-a45b-d4df8375c56f",
   "metadata": {},
   "outputs": [
    {
     "name": "stdout",
     "output_type": "stream",
     "text": [
      "Interpolation exists. Loading.\n"
     ]
    }
   ],
   "source": [
    "if not os.path.exists(newguessfile):\n",
    "    print(\"Interpolating previous solutions.\")\n",
    "    newinitguess, headerguess = interpolatesolutions(fitfile, 1, mask=planemask)\n",
    "    fits.writeto(newguessfile, newinitguess, headerguess)\n",
    "    \n",
    "else:\n",
    "    print(\"Interpolation exists. Loading.\")\n",
    "    newinitguess = fits.getdata(newguessfile)\n",
    "    "
   ]
  },
  {
   "cell_type": "code",
   "execution_count": 11,
   "id": "8ea76850",
   "metadata": {},
   "outputs": [
    {
     "name": "stdout",
     "output_type": "stream",
     "text": [
      "Fit 2 exists. Loading\n",
      "INFO: Left region selection unchanged.  xminpix, xmaxpix: 0,100 [pyspeckit.spectrum.interactive]\n",
      "INFO: Left region selection unchanged.  xminpix, xmaxpix: 0,100 [pyspeckit.spectrum.interactive]\n"
     ]
    },
    {
     "name": "stderr",
     "output_type": "stream",
     "text": [
      "NaN or infinite values encountered in parameter cube.\n",
      "Warning: converting a masked element to nan.\n"
     ]
    }
   ],
   "source": [
    "if not os.path.exists(fitfile2):\n",
    "    print(\"Starting fit (S/N>3)\")\n",
    "    cube.fiteach(fittype='gaussian',\n",
    "                 guesses=newinitguess,\n",
    "                 errmap = rmsmap, \n",
    "                 limitedmin=limitedmin,\n",
    "                 limitedmax=limitedmax,\n",
    "                 minpars=limitsmin,\n",
    "                 maxpars=limitsmax,\n",
    "                 use_neighbor_as_guess=True, \n",
    "                 start_from_point=starting_point,\n",
    "                 verbose=verbosity,\n",
    "                 verbose_level=1,\n",
    "                 multicore=multicore)\n",
    "    cube.write_fit(fitfile2)\n",
    "    fittedmodel = cube.get_modelcube()\n",
    "    \n",
    "else:\n",
    "    print(\"Fit 2 exists. Loading\")\n",
    "    cube.load_model_fit(fitfile2, 3, fittype='gaussian')"
   ]
  },
  {
   "cell_type": "code",
   "execution_count": 12,
   "id": "e1990854",
   "metadata": {},
   "outputs": [
    {
     "data": {
      "image/png": "[encoded data removed]",
      "text/plain": [
       "<Figure size 720x648 with 2 Axes>"
      ]
     },
     "metadata": {
      "needs_background": "light"
     },
     "output_type": "display_data"
    }
   ],
   "source": [
    "# first look at the velocities before filtering\n",
    "gc = aplpy.FITSFigure(fits.PrimaryHDU(cube.parcube[1], hdcube))\n",
    "gc.show_colorscale(cmap='RdYlBu_r', vmin=9.2, vmax=11.2)\n",
    "gc.add_colorbar()\n",
    "# gc.show_contour('../cont_image/B5IRS1_cont_natural.fits', colors='w', levels=0.00005*np.array([5, 15, 25]))"
   ]
  },
  {
   "cell_type": "markdown",
   "id": "eac1b2c7",
   "metadata": {
    "tags": []
   },
   "source": [
    "Do not let the apparent red-blue rotation within the continuum distract you, there might be two gaussian components or a strong self-absorption for what can be seen in the spectra there (see view_gaussfit_interactive.py)\n",
    "\n",
    "### Quality Assesment"
   ]
  },
  {
   "cell_type": "code",
   "execution_count": 13,
   "id": "fc032185",
   "metadata": {},
   "outputs": [
    {
     "name": "stdout",
     "output_type": "stream",
     "text": [
      "Loading filtered version.\n",
      "INFO: Left region selection unchanged.  xminpix, xmaxpix: 0,100 [pyspeckit.spectrum.interactive]\n",
      "INFO: Left region selection unchanged.  xminpix, xmaxpix: 0,100 [pyspeckit.spectrum.interactive]\n"
     ]
    },
    {
     "name": "stderr",
     "output_type": "stream",
     "text": [
      "NaN or infinite values encountered in parameter cube.\n",
      "Guesses have been changed from [nan, nan, nan] to [nan, nan, nan]\n"
     ]
    }
   ],
   "source": [
    "# we apply the filter\n",
    "if not os.path.exists(fitfile2filtered):\n",
    "    print(\"Creating filtered version.\") # for 1G, the snr will always be 3\n",
    "    parcube, errcube = filtersolutions(cube.parcube, cube.errcube, 1, \n",
    "                                       rmsmap=rmsmap, snratio=3, \n",
    "                                       velinit=velinit, velend=velend, \n",
    "                                       filter_negative=True, errorfrac=0.5, \n",
    "                                       filter_islands=True, chansize=0.08, masked_chans=mask_missing_scale_chans, \n",
    "                                       velinit_mask=velinit_zero, velend_mask=velend_zero)\n",
    "    cube.parcube = parcube\n",
    "    cube.errcube = errcube\n",
    "    cube.write_fit(fitfile2filtered) #(fitfile2filtered)\n",
    "    fittedmodel = cube.get_modelcube()\n",
    "        \n",
    "else:\n",
    "    print(\"Loading filtered version.\")\n",
    "    cube.load_model_fit(fitfile2filtered, 3, fittype='gaussian')\n",
    "    fittedmodel = cube.get_modelcube()\n",
    "\n",
    "    \n",
    "if not os.path.exists(fitfile2filteredTpeak):\n",
    "    print(\"Saving Tpeak fit (filtered)\")\n",
    "    hdcube['BUNIT'] = 'K'\n",
    "    fits.writeto(fitfile2filteredTpeak, cube.parcube[0], hdcube)\n",
    "    \n",
    "if not os.path.exists(fitfile2filteredVlsr):\n",
    "    print(\"Saving Vlsr fit (filtered)\")\n",
    "    hdcube['BUNIT'] = 'km s-1'\n",
    "    fits.writeto(fitfile2filteredVlsr, cube.parcube[1], hdcube)\n",
    "    \n",
    "if not os.path.exists(fitfile2filteredSigmaV):\n",
    "    print(\"Saving SigmaV fit (filtered)\")\n",
    "    hdcube['BUNIT'] = 'km s-1'\n",
    "    fits.writeto(fitfile2filteredSigmaV, cube.parcube[2], hdcube)\n"
   ]
  },
  {
   "cell_type": "code",
   "execution_count": 14,
   "id": "da80d48a-cb8d-41fb-addc-e3e863cad08f",
   "metadata": {},
   "outputs": [],
   "source": [
    "if not mask_missing_scale_chans:\n",
    "    fitfile2sigmafiltered = imagefilecorr + '_1G_fitparams_2_sigmafiltered.fits'\n",
    "    fitfile2sigmafilteredTpeak = imagefilecorr + '_1G_fitparams_2_sigmafiltered_Tpeak.fits'\n",
    "    fitfile2sigmafilteredVlsr = imagefilecorr + '_1G_fitparams_2_sigmafiltered_Vlsr.fits'\n",
    "    fitfile2sigmafilteredSigmaV = imagefilecorr + '_1G_fitparams_2_sigmafiltered_SigmaV.fits'\n",
    "    fitfile2sigmafilteredSigmaNT = imagefilecorr + '_1G_fitparams_2_sigmafiltered_SigmaNT.fits'\n",
    "    fitfile2sigmafilteredMachs = imagefilecorr + '_1G_fitparams_2_sigmafiltered_Mach_s.fits'\n",
    "\n",
    "    # we also apply a filter where we eliminate all curves with sigma larger than xx km/s\n",
    "\n",
    "    if not os.path.exists(fitfile2sigmafiltered):\n",
    "        print(\"Filtering curves with sigma_v>\"+str(maxsigma)+' km/s')\n",
    "        sigmamask = np.where(cube.parcube[2]>maxsigma, 1, 0)\n",
    "        cube.parcube[np.where(np.repeat([sigmamask], 3, axis=0))] = np.nan\n",
    "        cube.errcube[np.where(np.repeat([sigmamask], 3, axis=0))] = np.nan\n",
    "        cube.write_fit(fitfile2sigmafiltered)\n",
    "        fittedmodel = cube.get_modelcube()\n",
    "\n",
    "    else:\n",
    "        print(\"File with sigma_v>\"+str(maxsigma)+' km/s filtered exists')\n",
    "        cube.load_model_fit(fitfile2sigmafiltered, 3, fittype='gaussian')\n",
    "        fittedmodel = cube.get_modelcube()\n",
    "\n",
    "    # save the different parameters in individual fits for more comfortable use\n",
    "\n",
    "    if not os.path.exists(fitfile2sigmafilteredTpeak):\n",
    "        print(\"Saving Tpeak fit (sigma filtered)\")\n",
    "        hdcube['BUNIT'] = 'K'\n",
    "        fits.writeto(fitfile2sigmafilteredTpeak, cube.parcube[0], hdcube)\n",
    "\n",
    "    if not os.path.exists(fitfile2sigmafilteredVlsr):\n",
    "        print(\"Saving Vlsr fit (sigma filtered)\")\n",
    "        hdcube['BUNIT'] = 'km s-1'\n",
    "        fits.writeto(fitfile2sigmafilteredVlsr, cube.parcube[1], hdcube)\n",
    "\n",
    "    if not os.path.exists(fitfile2sigmafilteredSigmaV):\n",
    "        print(\"Saving SigmaV fit (sigma filtered)\")\n",
    "        hdcube['BUNIT'] = 'km s-1'\n",
    "        fits.writeto(fitfile2sigmafilteredSigmaV, cube.parcube[2], hdcube)\n"
   ]
  },
  {
   "cell_type": "markdown",
   "id": "cb66fbed-9464-469a-8307-3b843d30c08a",
   "metadata": {},
   "source": [
    "The one Gaussian fit is exactly the same as when we considered the channels affected by missing scales"
   ]
  },
  {
   "cell_type": "markdown",
   "id": "bfdd72b3-f27c-4d84-aab6-3decd151fcb8",
   "metadata": {
    "tags": []
   },
   "source": [
    "## 2 Gaussian fit\n",
    "\n",
    "Motivated by the results of the first fit, we explore what is going on in the center, where we masked before. We can find resolved structures if we explore a 2 Gaussian fit"
   ]
  },
  {
   "cell_type": "code",
   "execution_count": 15,
   "id": "e2254a60-d1b7-47e0-90ed-cf04049ee9c6",
   "metadata": {},
   "outputs": [],
   "source": [
    "snratio = 5\n"
   ]
  },
  {
   "cell_type": "markdown",
   "id": "8b29c3bb-293f-4286-b9e9-c1f7d63c3098",
   "metadata": {
    "tags": []
   },
   "source": [
    "### First fit: 2 Gaussians with the previous results (unmasked channels) as initial guess"
   ]
  },
  {
   "cell_type": "code",
   "execution_count": 16,
   "id": "5f1219f9-eca9-4770-87a9-d100ac71a892",
   "metadata": {},
   "outputs": [],
   "source": [
    "# initial guesses for the first two gaussian fit\n",
    "\n",
    "#we interpolate for the missing parts\n",
    "if mask_missing_scale_chans:\n",
    "    initguesses, headerguess2 = interpolatesolutions(initguessfile2G, 2, mask=planemask)\n",
    "    # manual input of some areas\n",
    "    initguesses[0, 134:143, 145:154] = 8.\n",
    "    initguesses[1, 134:143, 145:154] = 11.5\n",
    "    initguesses[2, 134:143, 145:154] = 0.2\n",
    "    initguesses[3, 134:143, 145:154] = 10.\n",
    "    initguesses[4, 134:143, 145:154] = 9.38\n",
    "    initguesses[5, 134:143, 145:154] = 0.15\n",
    "    \n",
    "    initguesses[0, 118:125, 139:145] = 8.\n",
    "    initguesses[1, 118:125, 139:145] = 11.5\n",
    "    initguesses[2, 118:125, 139:145] = 0.2\n",
    "    initguesses[3, 118:125, 139:145] = 10.\n",
    "    initguesses[4, 118:125, 139:145] = 9.38\n",
    "    initguesses[5, 118:125, 139:145] = 0.15\n",
    "    \n",
    "    initguesses[0, 114:122, 150:160] = 5.\n",
    "    initguesses[1, 114:122, 150:160] = 11.45\n",
    "    initguesses[2, 114:122, 150:160] = 0.1\n",
    "    initguesses[3, 114:122, 150:160] = 8.\n",
    "    initguesses[4, 114:122, 150:160] = 10.63\n",
    "    initguesses[5, 114:122, 150:160] = 0.2\n",
    "    \n",
    "else:\n",
    "    imageshape = np.shape(cube.cube)\n",
    "    initguesses = np.zeros((6, imageshape[1], imageshape[2]))\n",
    "    initguesses[0, :, :] = 10.0\n",
    "    initguesses[1, :, :] = 10.5\n",
    "    initguesses[2, :, :] = 0.3\n",
    "    initguesses[3, :, :] = 10.0\n",
    "    initguesses[4, :, :] = 9.2\n",
    "    initguesses[5, :, :] = 0.3\n",
    "    #initguesses[] = [10.0, 10.5, 0.3, 10, 9.2, 0.3]\n",
    "    # manual input of some areas\n",
    "    initguesses[0, 116:145, 115:128] = 10.0 \n",
    "    initguesses[1, 116:145, 115:128] = 9.8\n",
    "    initguesses[2, 116:145, 115:128] = 0.1 \n",
    "    initguesses[3, 116:145, 115:128] = 10\n",
    "    initguesses[4, 116:145, 115:128] = 9.3\n",
    "    initguesses[5, 116:145, 115:128] = 0.1\n",
    "    \n",
    "    initguesses[0, 80:127, 116:138] = 7\n",
    "    initguesses[1, 80:127, 116:138] = 10.13\n",
    "    initguesses[2, 80:127, 116:138] = 0.1 \n",
    "    initguesses[3, 80:127, 116:138] = 8\n",
    "    initguesses[4, 80:127, 116:138] = 9.38\n",
    "    initguesses[5, 80:127, 116:138] = 0.1\n",
    "    \n",
    "    initguesses[0, 65:100, 107:119] = 6\n",
    "    initguesses[1, 65:100, 107:119] = 10.0\n",
    "    initguesses[2, 65:100, 107:119] = 0.1 \n",
    "    initguesses[3, 65:100, 107:119] = 6\n",
    "    initguesses[4, 65:100, 107:119] = 9.54\n",
    "    initguesses[5, 65:100, 107:119] = 0.1\n",
    "    \n",
    "    initguesses[0, 116:130, 148:154] = 5\n",
    "    initguesses[1, 116:130, 148:154] = 11.3\n",
    "    initguesses[2, 116:130, 148:154] = 0.1 \n",
    "    initguesses[3, 116:130, 148:154] = 6\n",
    "    initguesses[4, 116:130, 148:154] = 10.5\n",
    "    initguesses[5, 116:130, 148:154] = 0.1\n",
    "    \n",
    "    initguesses[0, 116:126, 141:158] = 6\n",
    "    initguesses[1, 116:126, 141:158] = 11.4\n",
    "    initguesses[2, 116:126, 141:158] = 0.1 \n",
    "    initguesses[3, 116:126, 141:158] = 6\n",
    "    initguesses[4, 116:126, 141:158] = 10.72\n",
    "    initguesses[5, 116:126, 141:158] = 0.2\n",
    "    \n",
    "    initguesses[0, 129:143, 113:128] = 7\n",
    "    initguesses[1, 129:143, 113:128] = 9.8\n",
    "    initguesses[2, 129:143, 113:128] = 0.1 \n",
    "    initguesses[3, 129:143, 113:128] = 11\n",
    "    initguesses[4, 129:143, 113:128] = 9.3\n",
    "    initguesses[5, 129:143, 113:128] = 0.1\n",
    "    \n",
    "    initguesses[0, 155:161, 134:139] = 5\n",
    "    initguesses[1, 155:161, 134:139] = 9.88\n",
    "    initguesses[2, 155:161, 134:139] = 0.1 \n",
    "    initguesses[3, 155:161, 134:139] = 7\n",
    "    initguesses[4, 155:161, 134:139] = 9.46\n",
    "    initguesses[5, 155:161, 134:139] = 0.1\n",
    "    \n",
    "    initguesses[0, 87:91, 103:115] = 6\n",
    "    initguesses[1, 87:91, 103:115] = 9.97\n",
    "    initguesses[2, 87:91, 103:115] = 0.1 \n",
    "    initguesses[3, 87:91, 103:115] = 6.5\n",
    "    initguesses[4, 87:91, 103:115] = 9.6\n",
    "    initguesses[5, 87:91, 103:115] = 0.1\n",
    "    \n",
    "    initguesses[0, 125:130, 120:124] = 6\n",
    "    initguesses[1, 125:130, 120:124] = 9.88\n",
    "    initguesses[2, 125:130, 120:124] = 0.15\n",
    "    initguesses[3, 125:130, 120:124] = 10\n",
    "    initguesses[4, 125:130, 120:124] = 9.29\n",
    "    initguesses[5, 125:130, 120:124] = 0.3\n",
    "    \n",
    "    initguesses[0, 149:156, 146:156] = 4\n",
    "    initguesses[1, 149:156, 146:156] = 9.93\n",
    "    initguesses[2, 149:156, 146:156] = 0.15\n",
    "    initguesses[3, 149:156, 146:156] = 10\n",
    "    initguesses[4, 149:156, 146:156] = 9.4\n",
    "    initguesses[5, 149:156, 146:156] = 0.25\n",
    "    \n",
    "    initguesses[0, 125:152, 127:134] = 6\n",
    "    initguesses[1, 125:152, 127:134] = 9.56\n",
    "    initguesses[2, 125:152, 127:134] = 0.1\n",
    "    initguesses[3, 125:152, 127:134] = 8\n",
    "    initguesses[4, 125:152, 127:134] = 9.2\n",
    "    initguesses[5, 125:152, 127:134] = 0.1"
   ]
  },
  {
   "cell_type": "code",
   "execution_count": 17,
   "id": "94bbee2d-e3e1-4cae-baa2-797225515bca",
   "metadata": {},
   "outputs": [
    {
     "name": "stdout",
     "output_type": "stream",
     "text": [
      "Fit exists. Loading\n",
      "INFO: Left region selection unchanged.  xminpix, xmaxpix: 0,100 [pyspeckit.spectrum.interactive]\n"
     ]
    },
    {
     "name": "stderr",
     "output_type": "stream",
     "text": [
      "Warning: converting a masked element to nan.\n"
     ]
    },
    {
     "name": "stdout",
     "output_type": "stream",
     "text": [
      "INFO: Left region selection unchanged.  xminpix, xmaxpix: 0,100 [pyspeckit.spectrum.interactive]\n"
     ]
    }
   ],
   "source": [
    "\n",
    "limitedmin = [True, True, True, True, True, True]\n",
    "limitedmax = [False, True, True, False, True, True]\n",
    "limitsmin = [2, velinit, 0.08, 2, velinit, 0.08]\n",
    "limitsmax = [0, velend, (velend-velinit)/2.35, 0, velend, (velend-velinit)/2.35]\n",
    "\n",
    "if not os.path.exists(fitfile2G):\n",
    "    print(\"Starting 2G fit\")\n",
    "    cube.fiteach(fittype='gaussian',\n",
    "                 guesses=initguesses,\n",
    "                 signal_cut=snratio,\n",
    "                 errmap = rmsmap,\n",
    "                 limitedmin=limitedmin,\n",
    "                 limitedmax=limitedmax,\n",
    "                 minpars=limitsmin,\n",
    "                 maxpars=limitsmax,\n",
    "                 use_neighbor_as_guess=False, \n",
    "                 start_from_point=starting_point,\n",
    "                 verbose=verbosity,\n",
    "                 verbose_level=1,\n",
    "                 multicore=multicore)\n",
    "    cube.write_fit(fitfile2G)\n",
    "    fittedmodel = cube.get_modelcube()\n",
    "    \n",
    "else:\n",
    "    print(\"Fit exists. Loading\")\n",
    "    cube.load_model_fit(fitfile2G, 3, npeaks=2, fittype='gaussian')"
   ]
  },
  {
   "cell_type": "markdown",
   "id": "acdd3466-e887-4477-9319-fbc301a07d6f",
   "metadata": {
    "tags": []
   },
   "source": [
    "### Second fit: interpolation of initial fit"
   ]
  },
  {
   "cell_type": "code",
   "execution_count": 18,
   "id": "7d8237ba-3432-4c85-8c35-034e3c824e07",
   "metadata": {},
   "outputs": [
    {
     "name": "stdout",
     "output_type": "stream",
     "text": [
      "Loading filtered version.\n",
      "INFO: Left region selection unchanged.  xminpix, xmaxpix: 0,100 [pyspeckit.spectrum.interactive]\n",
      "INFO: Left region selection unchanged.  xminpix, xmaxpix: 0,100 [pyspeckit.spectrum.interactive]\n"
     ]
    },
    {
     "name": "stderr",
     "output_type": "stream",
     "text": [
      "NaN or infinite values encountered in parameter cube.\n",
      "Guesses have been changed from [nan, nan, nan, nan, nan, nan] to [nan, nan, nan, nan, nan, nan]\n"
     ]
    }
   ],
   "source": [
    "# we apply the filter\n",
    "if not os.path.exists(fitfile2Gfiltered):\n",
    "    print(\"Creating filtered version of initial guesses.\")\n",
    "    parcube, errcube = filtersolutions(cube.parcube, cube.errcube, 2, \n",
    "                                       rmsmap=rmsmap, snratio=2, \n",
    "                                       velinit=velinit, velend=velend, \n",
    "                                       filter_negative=True, errorfrac=0.5, masked_chans=mask_missing_scale_chans, \n",
    "                                       velinit_mask=velinit_zero, velend_mask=velend_zero)\n",
    "    cube.parcube = parcube\n",
    "    cube.errcube = errcube\n",
    "    cube.write_fit(fitfile2Gfiltered)\n",
    "    fittedmodel = cube.get_modelcube()\n",
    "        \n",
    "else:\n",
    "    print(\"Loading filtered version.\")\n",
    "    cube.load_model_fit(fitfile2Gfiltered, 3, npeaks=2, fittype='gaussian')\n",
    "    fittedmodel = cube.get_modelcube()\n",
    "    "
   ]
  },
  {
   "cell_type": "code",
   "execution_count": 19,
   "id": "c68f0c6b-7a04-43fe-80f7-f45b6f1b6062",
   "metadata": {},
   "outputs": [
    {
     "name": "stdout",
     "output_type": "stream",
     "text": [
      "Interpolation exists. Loading.\n",
      "Fit 2 exists. Loading\n",
      "INFO: Left region selection unchanged.  xminpix, xmaxpix: 0,100 [pyspeckit.spectrum.interactive]\n",
      "INFO: Left region selection unchanged.  xminpix, xmaxpix: 0,100 [pyspeckit.spectrum.interactive]\n"
     ]
    },
    {
     "name": "stderr",
     "output_type": "stream",
     "text": [
      "Warning: converting a masked element to nan.\n"
     ]
    }
   ],
   "source": [
    "\n",
    "if not os.path.exists(newguessfile2G):\n",
    "    print(\"Interpolating previous 2 Gaussian solutions.\")\n",
    "    newinitguess2G, headerguess2G = interpolatesolutions(fitfile2Gfiltered, 2, mask=planemask) # will work independent of the case\n",
    "    \n",
    "    #if not mask_missing_scale_chans:\n",
    "    # we edit manually some of the points in the velocities\n",
    "        # xinit = 124\n",
    "        # xfin = 152\n",
    "        # yinit = 134\n",
    "        # yfin = 146\n",
    "        # newinitguess2G[0][yinit:yfin,xinit:xfin] = 6\n",
    "        # newinitguess2G[1][yinit:yfin,xinit:xfin] = 9.6\n",
    "        # newinitguess2G[2][yinit:yfin,xinit:xfin] = 0.1\n",
    "        # newinitguess2G[3][yinit:yfin,xinit:xfin] = 6\n",
    "        # newinitguess2G[4][yinit:yfin,xinit:xfin] = 9.1\n",
    "        # newinitguess2G[5][yinit:yfin,xinit:xfin] = 0.1\n",
    "    # checks that values do not go beyond limits\n",
    "    newinitguess2G[2][np.where(newinitguess2G[2]>=1)] = 0.9\n",
    "    newinitguess2G[5][np.where(newinitguess2G[5]>=1)] = 0.9    \n",
    "    newinitguess2G[2][np.where(newinitguess2G[2]<=0.08)] = 0.08\n",
    "    newinitguess2G[5][np.where(newinitguess2G[5]<=0.08)] = 0.08\n",
    "    fits.writeto(newguessfile2G, newinitguess2G, headerguess2G)\n",
    "    \n",
    "else:\n",
    "    print(\"Interpolation exists. Loading.\")\n",
    "    newinitguess2G = fits.getdata(newguessfile2G)\n",
    "    \n",
    "if not os.path.exists(fitfile22G):\n",
    "    print(\"Starting 2 Gaussian fit (S/N>3)\")\n",
    "    cube.fiteach(fittype='gaussian',\n",
    "                 guesses=newinitguess2G,\n",
    "                 errmap = rmsmap, \n",
    "                 limitedmin=limitedmin,\n",
    "                 limitedmax=limitedmax,\n",
    "                 minpars=limitsmin,\n",
    "                 maxpars=limitsmax,\n",
    "                 use_neighbor_as_guess=True, \n",
    "                 start_from_point=starting_point,\n",
    "                 verbose=verbosity,\n",
    "                 verbose_level=0,\n",
    "                 multicore=multicore)\n",
    "    cube.write_fit(fitfile22G)\n",
    "    fittedmodel = cube.get_modelcube()\n",
    "    \n",
    "else:\n",
    "    print(\"Fit 2 exists. Loading\")\n",
    "    cube.load_model_fit(fitfile22G, 3, npeaks=2, fittype='gaussian')"
   ]
  },
  {
   "cell_type": "markdown",
   "id": "dad8de0a-499c-4e2e-9e11-13907ba60a26",
   "metadata": {},
   "source": [
    "### Quality Assessment of the 2 Gaussian fit"
   ]
  },
  {
   "cell_type": "code",
   "execution_count": 20,
   "id": "78fc9673-41cf-4afb-a906-8806bc417bf7",
   "metadata": {},
   "outputs": [
    {
     "name": "stdout",
     "output_type": "stream",
     "text": [
      "Creating filtered version of the 2 Gaussian fit.\n"
     ]
    },
    {
     "name": "stderr",
     "output_type": "stream",
     "text": [
      "invalid value encountered in true_divide\n"
     ]
    }
   ],
   "source": [
    "# we apply the filter\n",
    "if not os.path.exists(fitfile22Gfiltered):\n",
    "    print(\"Creating filtered version of the 2 Gaussian fit.\")\n",
    "    parcube, errcube = filtersolutions(cube.parcube, cube.errcube, 2, \n",
    "                                       rmsmap=rmsmap, snratio=snratio_qa, velinit=velinit, \n",
    "                                       velend=velend, filter_negative=True, \n",
    "                                       errorfrac=0.8, filter_islands=True, minsizetrim=15, masked_chans=mask_missing_scale_chans, \n",
    "                                       velinit_mask=velinit_zero, velend_mask=velend_zero) #minsizetrim was 5\n",
    "    cube.parcube = parcube\n",
    "    cube.errcube = errcube\n",
    "    cube.write_fit(fitfile22Gfiltered)\n",
    "    fittedmodel = cube.get_modelcube()\n",
    "        \n",
    "else:\n",
    "    print(\"Loading 2 Gaussian filtered version.\")\n",
    "    cube.load_model_fit(fitfile22Gfiltered, 3, npeaks=2, fittype='gaussian')\n",
    "    fittedmodel = cube.get_modelcube()\n",
    "    "
   ]
  },
  {
   "cell_type": "markdown",
   "id": "9f9692fa-9727-44a8-9650-55c7d96907fb",
   "metadata": {
    "tags": []
   },
   "source": [
    "## 3 Gaussian fit\n",
    "\n",
    "It might be an exageration but some might be well fitted with 3 Gaussians. Check afterwards if this is an effect of missing scales in the central channels or not"
   ]
  },
  {
   "cell_type": "code",
   "execution_count": null,
   "id": "be9e47c8-aeac-4b1f-b466-3584e6084194",
   "metadata": {},
   "outputs": [],
   "source": [
    "snratio = 5\n",
    "# fitfile23GfilteredTpeak = folder + imagefilecorr + '_3G_fitparams_2_filtered_Tpeak.fits'\n",
    "# fitfile23GfilteredVlsr = folder + imagefilecorr + '_3G_fitparams_2_filtered_Vlsr.fits'\n",
    "# fitfile23GfilteredSigmaV = folder + imagefilecorr + '_3G_fitparams_2_sigmafiltered_SigmaV.fits'"
   ]
  },
  {
   "cell_type": "markdown",
   "id": "55527bfd-923b-46f1-ae8d-80f266c88689",
   "metadata": {
    "tags": []
   },
   "source": [
    "### First fit: initial guesses from the previous results (unmasked channels)"
   ]
  },
  {
   "cell_type": "code",
   "execution_count": null,
   "id": "a516af4f-f7c6-477e-9c62-42732dcb2c54",
   "metadata": {},
   "outputs": [],
   "source": [
    "# initial guesses for the first two gaussian fit\n",
    "if mask_missing_scale_chans:\n",
    "    initguesses, headerguess3 = interpolatesolutions(initguessfile3G, 3, mask=planemask)\n",
    "    initguesses[0, 116:127, 142:154] = 7.\n",
    "    initguesses[1, 116:127, 142:154] = 11.89\n",
    "    initguesses[2, 116:127, 142:154] = 0.1\n",
    "    initguesses[3, 116:127, 142:154] = 6.\n",
    "    initguesses[4, 116:127, 142:154] = 11.3\n",
    "    initguesses[5, 116:127, 142:154] = 0.1\n",
    "    initguesses[6, 116:127, 142:154] = 7.\n",
    "    initguesses[7, 116:127, 142:154] = 10.72\n",
    "    initguesses[8, 116:127, 142:154] = 0.1\n",
    "else:\n",
    "    imageshape = np.shape(cube.cube)\n",
    "    initguesses = np.zeros((9, imageshape[1], imageshape[2]))\n",
    "    initguesses[0, :, :] = 10.0\n",
    "    initguesses[1, :, :] = 11.3\n",
    "    initguesses[2, :, :] = 0.3\n",
    "    initguesses[3, :, :] = 10\n",
    "    initguesses[4, :, :] = 10.7\n",
    "    initguesses[5, :, :] = 0.3\n",
    "    initguesses[6, :, :] = 5.0\n",
    "    initguesses[7, :, :] = 9.5\n",
    "    initguesses[8, :, :] = 0.3\n",
    "    \n",
    "    initguesses[0, 129:143, 131:137] = 4\n",
    "    initguesses[1, 129:143, 131:137] = 10.55\n",
    "    initguesses[2, 129:143, 131:137] = 0.2\n",
    "    initguesses[3, 129:143, 131:137] = 4\n",
    "    initguesses[4, 129:143, 131:137] = 9.79\n",
    "    initguesses[5, 129:143, 131:137] = 0.2\n",
    "    initguesses[6, 129:143, 131:137] = 10\n",
    "    initguesses[7, 129:143, 131:137] = 9.21\n",
    "    initguesses[8, 129:143, 131:137] = 0.3\n",
    "    \n",
    "limitedmin = [True, True, True, True, True, True, True, True, True]\n",
    "limitedmax = [False, True, True, False, True, True, False, True, True]\n",
    "limitsmin = [2, velinit, 0.08, 2, velinit, 0.08, 2, velinit, 0.08]\n",
    "limitsmax = [0, velend, (velend-velinit)/2.35, 0, velend, (velend-velinit)/2.35, 0, velend, (velend-velinit)/2.35]\n",
    "if not os.path.exists(fitfile3G):\n",
    "    print(\"Starting 3G fit\")\n",
    "    cube.fiteach(fittype='gaussian',\n",
    "                 guesses=initguesses,\n",
    "                 signal_cut=snratio,\n",
    "                 errmap = rmsmap,\n",
    "                 limitedmin=limitedmin,\n",
    "                 limitedmax=limitedmax,\n",
    "                 minpars=limitsmin,\n",
    "                 maxpars=limitsmax,\n",
    "                 use_neighbor_as_guess=True, \n",
    "                 start_from_point=starting_point,\n",
    "                 verbose=verbosity,\n",
    "                 verbose_level=1,\n",
    "                 multicore=multicore)\n",
    "    cube.write_fit(fitfile3G)\n",
    "    fittedmodel = cube.get_modelcube()\n",
    "    \n",
    "else:\n",
    "    print(\"Fit exists. Loading\")\n",
    "    cube.load_model_fit(fitfile3G, 3, npeaks=3, fittype='gaussian')"
   ]
  },
  {
   "cell_type": "markdown",
   "id": "2957e757-72ae-46fc-b48e-e9522ce63131",
   "metadata": {},
   "source": [
    "I checked it quickly and it has good solutions in the central region. Let's filter the solutions"
   ]
  },
  {
   "cell_type": "markdown",
   "id": "5bcc500e-708b-4b31-a379-b13842d547ad",
   "metadata": {},
   "source": [
    "### Second fit: extrapolation of obtained solutions"
   ]
  },
  {
   "cell_type": "code",
   "execution_count": null,
   "id": "244631fb-d949-4f1e-8c3f-50f16a5e735a",
   "metadata": {},
   "outputs": [],
   "source": [
    "# we apply the filter\n",
    "if not os.path.exists(fitfile3Gfiltered):\n",
    "    print(\"Creating filtered version of initial guesses.\")\n",
    "    parcube, errcube = filtersolutions(cube.parcube, cube.errcube, 3, \n",
    "                                       rmsmap=rmsmap, snratio=3, \n",
    "                                       velinit=velinit, velend=velend, \n",
    "                                       filter_negative=True, errorfrac=0.5, masked_chans=mask_missing_scale_chans, \n",
    "                                       velinit_mask=velinit_zero, velend_mask=velend_zero)\n",
    "    cube.parcube = parcube\n",
    "    cube.errcube = errcube\n",
    "    cube.write_fit(fitfile3Gfiltered)\n",
    "    fittedmodel = cube.get_modelcube()\n",
    "        \n",
    "else:\n",
    "    print(\"Loading filtered version.\")\n",
    "    cube.load_model_fit(fitfile3Gfiltered, 3, npeaks=3, fittype='gaussian')\n",
    "    fittedmodel = cube.get_modelcube()\n",
    "    "
   ]
  },
  {
   "cell_type": "code",
   "execution_count": null,
   "id": "b50112d0-cb6a-4d1d-8cda-dc1e2161129d",
   "metadata": {},
   "outputs": [],
   "source": [
    "\n",
    "if not os.path.exists(newguessfile3G):\n",
    "    print(\"Interpolating previous 3 Gaussian solutions.\")\n",
    "    newinitguess3G, headerguess3G = interpolatesolutions(fitfile3Gfiltered, 3, mask=planemask)\n",
    "    newinitguess3G[2][np.where(newinitguess3G[2]<=0.08)] = 0.08\n",
    "    newinitguess3G[5][np.where(newinitguess3G[5]<=0.08)] = 0.08\n",
    "    newinitguess3G[8][np.where(newinitguess3G[8]<=0.08)] = 0.08\n",
    "    fits.writeto(newguessfile3G, newinitguess3G, headerguess3G)\n",
    "    \n",
    "else:\n",
    "    print(\"Interpolation exists. Loading.\")\n",
    "    newinitguess3G = fits.getdata(newguessfile3G)\n",
    "    \n",
    "if not os.path.exists(fitfile23G):\n",
    "    print(\"Starting 3 Gaussian fit (S/N>3)\")\n",
    "    cube.fiteach(fittype='gaussian',\n",
    "                 guesses=newinitguess3G,\n",
    "                 errmap = rmsmap, \n",
    "                 limitedmin=limitedmin,\n",
    "                 limitedmax=limitedmax,\n",
    "                 minpars=limitsmin,\n",
    "                 maxpars=limitsmax,\n",
    "                 use_neighbor_as_guess=True, \n",
    "                 start_from_point=starting_point,\n",
    "                 verbose=verbosity,\n",
    "                 verbose_level=0,\n",
    "                 multicore=multicore)\n",
    "    cube.write_fit(fitfile23G)\n",
    "    fittedmodel = cube.get_modelcube()\n",
    "    \n",
    "else:\n",
    "    print(\"Fit 2 exists. Loading\")\n",
    "    cube.load_model_fit(fitfile23G, 3, npeaks=3, fittype='gaussian')"
   ]
  },
  {
   "cell_type": "markdown",
   "id": "e2ec3061-0aff-4974-92f6-7435fb0b6e15",
   "metadata": {},
   "source": [
    "### Quality assessment of the 3 Gaussian fit"
   ]
  },
  {
   "cell_type": "code",
   "execution_count": null,
   "id": "392b21b0-2fa8-4097-90df-3e3b963a92d3",
   "metadata": {},
   "outputs": [],
   "source": [
    "# we apply the filter\n",
    "if not os.path.exists(fitfile23Gfiltered):\n",
    "    print(\"Creating filtered version of the 3 Gaussian fit.\")\n",
    "    parcube, errcube = filtersolutions(cube.parcube, cube.errcube, \n",
    "                                       3, rmsmap=rmsmap, snratio=snratio_qa, \n",
    "                                       velinit=velinit, velend=velend, \n",
    "                                       filter_negative=True, errorfrac=0.8, \n",
    "                                       filter_islands=True, minsizetrim=2, masked_chans=True, \n",
    "                                       velinit_mask=velinit_zero, velend_mask=velend_zero)\n",
    "    cube.parcube = parcube\n",
    "    cube.errcube = errcube\n",
    "    cube.write_fit(fitfile23Gfiltered)\n",
    "    fittedmodel = cube.get_modelcube()\n",
    "        \n",
    "else:\n",
    "    print(\"Loading 2 Gaussian filtered version.\")\n",
    "    cube.load_model_fit(fitfile23Gfiltered, 3, npeaks=3, fittype='gaussian')\n",
    "    fittedmodel = cube.get_modelcube()\n",
    "    "
   ]
  },
  {
   "cell_type": "code",
   "execution_count": null,
   "id": "0ead0095-8628-4397-bfa2-380d225bb7f7",
   "metadata": {},
   "outputs": [],
   "source": []
  }
 ],
 "metadata": {
  "kernelspec": {
   "display_name": "Python 3 (ipykernel)",
   "language": "python",
   "name": "python3"
  },
  "language_info": {
   "codemirror_mode": {
    "name": "ipython",
    "version": 3
   },
   "file_extension": ".py",
   "mimetype": "text/x-python",
   "name": "python",
   "nbconvert_exporter": "python",
   "pygments_lexer": "ipython3",
   "version": "3.9.7"
  }
 },
 "nbformat": 4,
 "nbformat_minor": 5
}
