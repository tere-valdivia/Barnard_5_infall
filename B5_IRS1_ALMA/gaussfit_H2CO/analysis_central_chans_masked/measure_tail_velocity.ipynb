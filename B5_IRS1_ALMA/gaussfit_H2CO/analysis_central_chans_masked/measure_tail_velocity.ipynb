{
 "cells": [
  {
   "cell_type": "code",
   "execution_count": 1,
   "id": "5a2c8186-5869-4879-b043-c50a8070143f",
   "metadata": {},
   "outputs": [],
   "source": [
    "import numpy as np\n",
    "from astropy.io import fits\n",
    "import astropy.units as u\n",
    "from regions import Regions\n",
    "from astropy.wcs import WCS"
   ]
  },
  {
   "cell_type": "code",
   "execution_count": 2,
   "id": "6beb3035-317d-4937-8e79-7e84072a4dca",
   "metadata": {},
   "outputs": [
    {
     "name": "stderr",
     "output_type": "stream",
     "text": [
      "WARNING: FITSFixedWarning: 'obsfix' made the change 'Set OBSGEO-L to   -67.754929 from OBSGEO-[XYZ].\n",
      "Set OBSGEO-B to   -23.022886 from OBSGEO-[XYZ].\n",
      "Set OBSGEO-H to     5053.796 from OBSGEO-[XYZ]'. [astropy.wcs.wcs]\n"
     ]
    }
   ],
   "source": [
    "bluestreamvlsrfile = 'components_blueshifted_envelope_vlsr.fits'\n",
    "regionfile = 'tail_pixels2.reg'\n",
    "bluestreamvlsr = fits.getdata(bluestreamvlsrfile)\n",
    "header = fits.getheader(bluestreamvlsrfile)\n",
    "regiontail = Regions.read(regionfile)[0]\n",
    "regiontailpix = regiontail.to_pixel(wcs=WCS(header))"
   ]
  },
  {
   "cell_type": "code",
   "execution_count": 3,
   "id": "52b5587a-8f2b-46e7-a911-3c1f152a1bc8",
   "metadata": {},
   "outputs": [],
   "source": [
    "mask = regiontailpix.to_mask()\n",
    "shape = np.shape(bluestreamvlsr)\n",
    "mask_image = mask.to_image(shape)\n",
    "vlsr = bluestreamvlsr[np.where(mask_image)]\n",
    "vlsr = vlsr[~np.isnan(vlsr)]"
   ]
  },
  {
   "cell_type": "code",
   "execution_count": 4,
   "id": "1ce53f57-b4d6-41c0-9d5f-9cabdc112d5e",
   "metadata": {},
   "outputs": [],
   "source": [
    "\n",
    "p_range = np.array([0.15865 * 100, 50., 0.84135 * 100]) # I believe this is one sigma? ask Jaime\n",
    "vlsr_median_unc = np.round(np.percentile(vlsr, p_range), decimals=3)"
   ]
  },
  {
   "cell_type": "code",
   "execution_count": 6,
   "id": "350fcb9b-7f0f-4f22-8679-d0130f978fb1",
   "metadata": {},
   "outputs": [
    {
     "data": {
      "text/plain": [
       "10.009515915669182"
      ]
     },
     "execution_count": 6,
     "metadata": {},
     "output_type": "execute_result"
    }
   ],
   "source": [
    "np.mean(vlsr)"
   ]
  },
  {
   "cell_type": "code",
   "execution_count": null,
   "id": "4b07323e-73af-406c-88f7-3e0efaafe2b2",
   "metadata": {},
   "outputs": [],
   "source": []
  }
 ],
 "metadata": {
  "kernelspec": {
   "display_name": "Python 3 (ipykernel)",
   "language": "python",
   "name": "python3"
  },
  "language_info": {
   "codemirror_mode": {
    "name": "ipython",
    "version": 3
   },
   "file_extension": ".py",
   "mimetype": "text/x-python",
   "name": "python",
   "nbconvert_exporter": "python",
   "pygments_lexer": "ipython3",
   "version": "3.9.7"
  }
 },
 "nbformat": 4,
 "nbformat_minor": 5
}
