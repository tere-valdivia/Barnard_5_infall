{
 "cells": [
  {
   "cell_type": "markdown",
   "id": "888a3ad2-0664-46aa-b9fb-1432ff82ada1",
   "metadata": {},
   "source": [
    "# Velocity field comparison between H$_2$CO and H$^{13}$CO$^+$"
   ]
  },
  {
   "cell_type": "code",
   "execution_count": 1,
   "id": "e68986ca-bb12-4e0d-9c04-3fdb64f7fd10",
   "metadata": {},
   "outputs": [
    {
     "name": "stderr",
     "output_type": "stream",
     "text": [
      "WARNING: AstropyDeprecationWarning: block_reduce was moved to the astropy.nddata.blocks module.  Please update your import statement. [astropy.nddata.utils]\n"
     ]
    }
   ],
   "source": [
    "import numpy as np\n",
    "from astropy.io import fits\n",
    "from reproject import reproject_exact\n",
    "%matplotlib inline\n",
    "import sys\n",
    "sys.path.append('../B5_NOEMA_30m')\n",
    "from B5setup import *\n",
    "import matplotlib.pyplot as plt\n",
    "import aplpy\n",
    "from scipy import stats\n",
    "from scipy.integrate import simpson\n",
    "import os"
   ]
  },
  {
   "cell_type": "markdown",
   "id": "a6e7be9c-1b65-47db-80a6-bb44f66fb257",
   "metadata": {},
   "source": [
    "We first create an H$_2$CO map which shares the same grid as the actual H$^{13}$CO$^+$  image.\n",
    "\n",
    "H$^{13}$CO$^+$ from van't Hoff et al 2022 has a larger beam (0.61\") and pixel size (0.08\") than H$_2$CO (beam of 0.41\" and pixel size of 0.054\"), so we will regrid H$_2$CO to the H$^{13}$CO$^+$ map (but the one that we cut because the original one is too big)"
   ]
  },
  {
   "cell_type": "code",
   "execution_count": 2,
   "id": "ffda8a2a-6b4a-43d5-9ad9-a6641f7c48c2",
   "metadata": {},
   "outputs": [],
   "source": [
    "folderH2CO = 'gaussfit_H2CO/analysis_central_chans_masked/'\n",
    "folderH13COp = '2017.1.01371.S_Hoff/'\n",
    "h2covlsrfilename = 'components_blueshifted_envelope_vlsr'\n",
    "h13copvlsrfilename = 'B5-IRS1_H13COp_2_1_short_cut_K_kms_1G_fitparams_2_filtered_Vlsr'\n",
    "diffdatafile = 'B5_H2CO_blueshifted_envelope_minus_H13COp'"
   ]
  },
  {
   "cell_type": "code",
   "execution_count": 3,
   "id": "a42aa980-f0ed-4a26-995d-59191d549d3a",
   "metadata": {},
   "outputs": [
    {
     "name": "stderr",
     "output_type": "stream",
     "text": [
      "WARNING: FITSFixedWarning: 'obsfix' made the change 'Set OBSGEO-L to   -67.754929 from OBSGEO-[XYZ].\n",
      "Set OBSGEO-B to   -23.022886 from OBSGEO-[XYZ].\n",
      "Set OBSGEO-H to     5053.796 from OBSGEO-[XYZ]'. [astropy.wcs.wcs]\n"
     ]
    }
   ],
   "source": [
    "if not os.path.exists(folderH2CO + h2covlsrfilename + '_reprojectH13COp.fits'):\n",
    "    H2COhdu = fits.open(folderH2CO + h2covlsrfilename + '.fits')\n",
    "    # key_remove = ['PC03_01', 'PC04_01', 'PC01_03', 'PC02_03', 'PC03_02', 'PC04_02','PC03_03', 'PC04_03', 'PC01_04',\n",
    "    #               'PC02_04', 'PC03_04', 'PC04_04', 'CUNIT3', 'CRPIX4','CDELT4','CUNIT4','CTYPE4','CRVAL4','SPECSYS']\n",
    "    # for key_i in key_remove: # there are more dimensions written in the NH3 fits file\n",
    "    #     NH3hdu[0].header.remove(key_i)\n",
    "    H13COpheader = fits.getheader(folderH13COp + h13copvlsrfilename + '.fits')\n",
    "    newH2COimage, footprint = reproject_exact(H2COhdu[0], H13COpheader)\n",
    "    # now we modify the spatial properties of the H2CO Header\n",
    "    newheader = H2COhdu[0].header.copy() # we use this header as it has the resolution\n",
    "    key_modify = ['CUNIT1', 'CRPIX1','CDELT1','CTYPE1','CRVAL1', 'CUNIT2', 'CRPIX2','CDELT2','CTYPE2','CRVAL2']\n",
    "    for key_i in key_modify: # there are more dimensions written in the NH3 fits file\n",
    "        newheader[key_i] = H13COpheader[key_i]\n",
    "\n",
    "    fits.writeto(folderH2CO + h2covlsrfilename + '_reprojectH13COp.fits', newH2COimage, newheader)\n",
    "    H2COhdu.close()\n",
    "else:\n",
    "    newH2COimage = fits.getdata(folderH2CO + h2covlsrfilename + '_reprojectH13COp.fits')"
   ]
  },
  {
   "cell_type": "code",
   "execution_count": 4,
   "id": "fe8626f0-c21d-4d5a-81b2-f5f606b782df",
   "metadata": {},
   "outputs": [],
   "source": [
    "H13COpdata = fits.getdata(folderH13COp + h13copvlsrfilename + '.fits')\n",
    "H13COpheader = fits.getheader(folderH13COp + h13copvlsrfilename + '.fits')\n",
    "\n",
    "diff = newH2COimage - H13COpdata\n",
    "\n",
    "newhead = H13COpheader.copy()\n",
    "newhead.remove('BUNIT')\n",
    "if not os.path.exists(folderH2CO + diffdatafile + '.fits'):\n",
    "    fits.writeto(folderH2CO + diffdatafile + '.fits', diff, newhead)"
   ]
  },
  {
   "cell_type": "code",
   "execution_count": 5,
   "id": "c18ca5ef-f5e7-4eb8-8f9d-498250c9af52",
   "metadata": {},
   "outputs": [
    {
     "name": "stderr",
     "output_type": "stream",
     "text": [
      "WARNING: FITSFixedWarning: 'obsfix' made the change 'Set OBSGEO-L to   -67.754929 from OBSGEO-[XYZ].\n",
      "Set OBSGEO-B to   -23.022886 from OBSGEO-[XYZ].\n",
      "Set OBSGEO-H to     5053.796 from OBSGEO-[XYZ]'. [astropy.wcs.wcs]\n",
      "/home/mvaldivi/anaconda3/envs/python3/lib/python3.9/site-packages/aplpy/core.py:780: MatplotlibDeprecationWarning: You are modifying the state of a globally registered colormap. This has been deprecated since 3.3 and in 3.6, you will not be able to modify a registered colormap in-place. To remove this warning, you can make a copy of the colormap first. cmap = mpl.cm.get_cmap(\"RdYlBu_r\").copy()\n",
      "  cm.set_bad(color)\n"
     ]
    },
    {
     "data": {
      "image/png": "[encoded data removed]",
      "text/plain": [
       "<Figure size 288x288 with 2 Axes>"
      ]
     },
     "metadata": {
      "needs_background": "light"
     },
     "output_type": "display_data"
    }
   ],
   "source": [
    "# we plot quickly the difference\n",
    "fig = plt.figure(figsize=(4,4))\n",
    "velmin = -0.2\n",
    "velmax = 0.2\n",
    "ax = plot_aplpy_subfig(folderH2CO + diffdatafile + '.fits', \n",
    "                       fig, (1,1,1), 'linear', velmin, \n",
    "                       velmax, 'RdYlBu_r',barsize=1000)\n",
    "ax.recenter(ra_yso, dec_yso, 0.0015)\n",
    "ax.add_label(0.6, 0.04, \n",
    "             r'$V_{\\mathrm{LSR},\\mathrm{H}_2\\mathrm{CO}(3_{0,3}-2_{0,2})} - V_{\\mathrm{LSR}, \\mathrm{H}^{13}\\mathrm{CO}^+(2-1)}$', \n",
    "             relative=True, family='sans-serif', size=12)\n",
    "# fig.savefig(folderHC3N + diffdatafile + '.pdf', bbox_inches='tight')"
   ]
  },
  {
   "cell_type": "markdown",
   "id": "caf9eb9d-a8df-4c67-a170-5d1632f42d91",
   "metadata": {},
   "source": [
    "Now we do a statistical estimation if there is significant difference looking at the probability density function obtained from the Kernel Density Estimation"
   ]
  },
  {
   "cell_type": "code",
   "execution_count": 6,
   "id": "a733f814-bcae-461c-963a-8bb3df75d756",
   "metadata": {},
   "outputs": [],
   "source": [
    "data_kde = np.linspace(-0.4, 0.4, 100)\n",
    "data = fits.getdata(folderH2CO + diffdatafile + '.fits')\n",
    "data = data[~np.isnan(data)]\n",
    "p_range = np.array([0.15865 * 100, 50., 0.84135 * 100]) # I believe this is one sigma? ask Jaime\n",
    "vlsr_median_unc = np.round(np.percentile(data, p_range), decimals=2)\n",
    "\n",
    "kernel = stats.gaussian_kde(data)\n",
    "dens = kernel(data_kde)\n",
    "dens /= simpson(dens, data_kde) # normalizing of probability\n",
    "\n",
    "datasave = np.array([data_kde, dens, vlsr_median_unc], dtype=object)\n",
    "if not os.path.exists(folderH2CO + diffdatafile+'.npy'):\n",
    "    np.save(folderH2CO + diffdatafile+'.npy', datasave)"
   ]
  },
  {
   "cell_type": "code",
   "execution_count": 7,
   "id": "72ec173b-847b-4b44-82ec-6d7f2bd1ae3f",
   "metadata": {},
   "outputs": [
    {
     "data": {
      "text/plain": [
       "Text(-0.030000000000000002, 1.1, '0.02$_{-0.09}^{+0.07}$')"
      ]
     },
     "execution_count": 7,
     "metadata": {},
     "output_type": "execute_result"
    },
    {
     "data": {
      "image/png": "[encoded data removed]",
      "text/plain": [
       "<Figure size 432x288 with 1 Axes>"
      ]
     },
     "metadata": {
      "needs_background": "light"
     },
     "output_type": "display_data"
    }
   ],
   "source": [
    "fig = plt.figure()\n",
    "ax = fig.add_subplot(111)\n",
    "ax.hist(data, fc='k', bins='sturges', density=True)\n",
    "ax.plot(data_kde, dens)\n",
    "ax.set_xlim([-0.4, 0.4])\n",
    "ax.plot([vlsr_median_unc[1], vlsr_median_unc[1]], [0.5, 2], color='C1', ls='--')\n",
    "ax.text(vlsr_median_unc[1]-0.05,1.1,r'{0}$_{{{1:.2f}}}^{{+{2:.2f}}}$'.format(vlsr_median_unc[1], vlsr_median_unc[0]-vlsr_median_unc[1], vlsr_median_unc[2]-vlsr_median_unc[1]), size=10, color='C1')\n"
   ]
  },
  {
   "cell_type": "markdown",
   "id": "c0c44c37-b7b7-492f-885d-0069eb66ac2b",
   "metadata": {},
   "source": [
    "I am not sure which will be the best way to show the (lack of) difference so we can also try a 2D KDE"
   ]
  },
  {
   "cell_type": "code",
   "execution_count": 8,
   "id": "efeff395-a315-481b-bd4e-40491cc0b3e1",
   "metadata": {},
   "outputs": [],
   "source": [
    "# x is v_LSR of H2CO\n",
    "xmin = 9.2\n",
    "xmax = 10.6\n",
    "# y is v_LSR of H13COp\n",
    "ymin = 9.2\n",
    "ymax = 10.6\n",
    "xx, yy = np.mgrid[xmin:xmax:100j, ymin:ymax:100j]\n",
    "positions = np.vstack([xx.ravel(), yy.ravel()])\n",
    "# we select only those who are not nan\n",
    "gd_vlos = np.isfinite(newH2COimage * H13COpdata)\n",
    "values = np.vstack([newH2COimage[gd_vlos], H13COpdata[gd_vlos]])\n",
    "# we calculate the kernel distribution\n",
    "kernel = stats.gaussian_kde(values)\n",
    "zz = np.reshape(kernel(positions).T, xx.shape)\n",
    "zz /= zz.max()\n",
    "\n",
    "datasave = np.array([xx, yy, zz])\n",
    "\n",
    "if not os.path.exists(folderH2CO + diffdatafile+'_2DKDE.npy'):\n",
    "    np.save(folderH2CO + diffdatafile+'_2DKDE.npy', datasave)"
   ]
  },
  {
   "cell_type": "code",
   "execution_count": 9,
   "id": "525039bd-5785-42ff-ae32-74e4826ab887",
   "metadata": {},
   "outputs": [
    {
     "data": {
      "text/plain": [
       "[<matplotlib.lines.Line2D at 0x7f1492480e20>]"
      ]
     },
     "execution_count": 9,
     "metadata": {},
     "output_type": "execute_result"
    },
    {
     "data": {
      "image/png": "[encoded data removed]",
      "text/plain": [
       "<Figure size 432x288 with 1 Axes>"
      ]
     },
     "metadata": {
      "needs_background": "light"
     },
     "output_type": "display_data"
    }
   ],
   "source": [
    "# just to check it quickly\n",
    "fig = plt.figure()\n",
    "ax = fig.add_subplot(111)\n",
    "ax.contourf(xx, yy, zz, cmap='Greys', levels=np.arange(0.1, 1.2, 0.1), vmin=0., vmax=1.1)\n",
    "ax.plot([9.2, 10.6], [9.2, 10.6], 'b-')"
   ]
  },
  {
   "cell_type": "code",
   "execution_count": 10,
   "id": "c3a9d279-6d99-4905-8651-bda656c230b8",
   "metadata": {},
   "outputs": [
    {
     "data": {
      "text/plain": [
       "4.0767174008244"
      ]
     },
     "execution_count": 10,
     "metadata": {},
     "output_type": "execute_result"
    }
   ],
   "source": [
    "0.1132421500229E-02*3600"
   ]
  }
 ],
 "metadata": {
  "kernelspec": {
   "display_name": "Python 3 (ipykernel)",
   "language": "python",
   "name": "python3"
  },
  "language_info": {
   "codemirror_mode": {
    "name": "ipython",
    "version": 3
   },
   "file_extension": ".py",
   "mimetype": "text/x-python",
   "name": "python",
   "nbconvert_exporter": "python",
   "pygments_lexer": "ipython3",
   "version": "3.9.7"
  }
 },
 "nbformat": 4,
 "nbformat_minor": 5
}
