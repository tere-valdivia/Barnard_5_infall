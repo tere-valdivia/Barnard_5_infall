{
 "cells": [
  {
   "cell_type": "code",
   "execution_count": 1,
   "id": "9b8a985b-f3dc-4018-be45-ac977172ddb0",
   "metadata": {},
   "outputs": [
    {
     "name": "stderr",
     "output_type": "stream",
     "text": [
      "WARNING: AstropyDeprecationWarning: block_reduce was moved to the astropy.nddata.blocks module.  Please update your import statement. [astropy.nddata.utils]\n"
     ]
    }
   ],
   "source": [
    "import matplotlib.pyplot as plt\n",
    "import numpy as np\n",
    "from astropy.io import fits\n",
    "import pyregion\n",
    "from astropy.wcs import WCS\n",
    "from astropy.coordinates import SkyCoord, FK5\n",
    "import astropy.units as u\n",
    "from scipy import stats\n",
    "\n",
    "import sys\n",
    "sys.path.append('../B5_NOEMA_30m')\n",
    "from B5setup import *\n",
    "\n",
    "import velocity_tools.stream_lines as SL"
   ]
  },
  {
   "cell_type": "code",
   "execution_count": 2,
   "id": "460797f9-7b2b-4124-8d3b-daa8fce8c787",
   "metadata": {},
   "outputs": [],
   "source": [
    "def get_streamer(mass, r0, theta0, phi0, omega0, v_r0, inc, PA):\n",
    "    (x1, y1, z1), (vx1, vy1, vz1) = SL.xyz_stream(\n",
    "        mass=mass, r0=r0, theta0=theta0, phi0=phi0,\n",
    "        omega=omega0, v_r0=v_r0, inc=inc, pa=PA, rmin=500*u.au) #, deltar=10*u.au)\n",
    "    # we obtain the distance of each point in the sky\n",
    "    d_sky_au = np.sqrt(x1**2 + z1**2)\n",
    "    # Stream line into arcsec\n",
    "    dra_stream = -x1.value / dist_B5.value\n",
    "    ddec_stream = z1.value / dist_B5.value\n",
    "    fil = SkyCoord(dra_stream*u.arcsec, ddec_stream*u.arcsec,\n",
    "                   frame=B5_ref).transform_to(FK5)\n",
    "    velocity = v_lsr + vy1\n",
    "    return fil, d_sky_au, velocity\n"
   ]
  },
  {
   "cell_type": "code",
   "execution_count": 3,
   "id": "60c661ec-1ef0-48b1-bea6-85644f036f07",
   "metadata": {},
   "outputs": [
    {
     "name": "stdout",
     "output_type": "stream",
     "text": [
      "rc=181.98808244943086 AU\n"
     ]
    }
   ],
   "source": [
    "# parameters for the streamline model \n",
    "# Constants\n",
    "M_star = 0.2 * u.Msun # from our PV diagram analysis\n",
    "M_disk = 0.025 * u.Msun # corrected from 240 to 302 pc distance from Zapata et al 2014\n",
    "M_env = 0.21 * u.Msun # From Brassfield and Bourke 2011\n",
    "Mtot = M_star + M_disk + M_env\n",
    "v_lsr = 10.2 * u.km/u.s\n",
    "# inclination and position angle given by the outflow (i=0 is edge on for this setup\n",
    "# PA=0 lays on west)\n",
    "inc = (13) * u.deg\n",
    "PA_ang = (157+90)*u.deg\n",
    "\n",
    "# reference coordinates\n",
    "B5_c = SkyCoord(ra_yso*u.deg, dec_yso*u.deg, frame='fk5')\n",
    "B5_ref = B5_c.skyoffset_frame()\n",
    "\n",
    "# axes given by i and PA\n",
    "x_b = np.array([1, 0, 0])*1e3/dist_B5.value\n",
    "y_b = np.array([0, 0, 0])*1e3/dist_B5.value\n",
    "z_b = np.array([0, 0, 1])*1e3/dist_B5.value\n",
    "nx_b, ny_b, nz_b = SL.rotate_xyz(x_b, y_b, z_b, inc=inc, pa=PA_ang)\n",
    "my_axis_new = SkyCoord(-nx_b*u.arcsec, nz_b*u.arcsec, frame=B5_ref).transform_to(FK5)\n",
    "\n",
    "# Initial parameters\n",
    "r0 = 2430 * u.au\n",
    "theta0 = 106 * u.deg  # rotate clockwise\n",
    "phi0 = 71 * u.deg\n",
    "v_r0 = 0.0 * u.km/u.s\n",
    "omega0 = 3.0e-13 / u.s\n",
    "\n",
    "fil0, dsky0, velo0 = get_streamer(Mtot, r0, theta0, phi0, omega0, v_r0, inc, PA_ang)\n"
   ]
  },
  {
   "cell_type": "code",
   "execution_count": 4,
   "id": "8c758fb8-fd86-4bf5-a957-d249f6c3d586",
   "metadata": {},
   "outputs": [],
   "source": [
    "# Filenames for H2CO\n",
    "folder = 'gaussfit_H2CO/'\n",
    "imagename = folder + 'B5IRS1_H2COa_robust05_multi_3_cut_K_contcorrected_1G_fitparams_2_sigmafiltered_Tpeak.fits'\n",
    "vcname = folder + 'B5IRS1_H2COa_robust05_multi_3_cut_K_contcorrected_1G_fitparams_2_sigmafiltered_Vlsr.fits'\n",
    "regionfile = folder + 'region_kde2.reg'\n",
    "\n",
    "# Filenames for 12CO\n",
    "folderco = 'dirty_images/'\n",
    "vcnameco = folderco + 'B5IRS1_12CO_contsub_dirty_blue_mom1.fits'\n",
    "regionfileco = folderco + 'region_blue_outflow_cone.reg'\n"
   ]
  },
  {
   "cell_type": "code",
   "execution_count": 5,
   "id": "b5b0c451-2128-4fac-b0ff-c492dd3886b4",
   "metadata": {},
   "outputs": [
    {
     "name": "stderr",
     "output_type": "stream",
     "text": [
      "WARNING: FITSFixedWarning: 'obsfix' made the change 'Set OBSGEO-L to   -67.754929 from OBSGEO-[XYZ].\n",
      "Set OBSGEO-B to   -23.022886 from OBSGEO-[XYZ].\n",
      "Set OBSGEO-H to     5053.796 from OBSGEO-[XYZ]'. [astropy.wcs.wcs]\n"
     ]
    }
   ],
   "source": [
    "# create the grid for the kernel distribution\n",
    "# x is projected distance\n",
    "xmin = 0\n",
    "xmax = 2000\n",
    "# y is velocity lsr\n",
    "ymin = 9\n",
    "ymax = 11\n",
    "xx, yy = np.mgrid[xmin:xmax:100j, ymin:ymax:100j]\n",
    "positions = np.vstack([xx.ravel(), yy.ravel()])\n",
    "# Here we obtain the kernel density estimation of the velocities along the line of sight for H2CO\n",
    "r_proj, v_los = get_vc_r(vcname, regionfile, ra_yso*u.deg, dec_yso*u.deg, dist_B5)\n",
    "# we select only those who are not nan\n",
    "gd_vlos = np.isfinite(r_proj*v_los)\n",
    "values = np.vstack([r_proj[gd_vlos].value, v_los[gd_vlos].value])\n",
    "# we calculate the kernel distribution\n",
    "kernelH2CO = stats.gaussian_kde(values)\n",
    "zzH2CO = np.reshape(kernelH2CO(positions).T, xx.shape)\n",
    "zzH2CO /= zzH2CO.max()  # normalization of probability"
   ]
  },
  {
   "cell_type": "code",
   "execution_count": 6,
   "id": "52a38cdd-7049-4c4e-ab2f-08638305dda8",
   "metadata": {},
   "outputs": [
    {
     "name": "stderr",
     "output_type": "stream",
     "text": [
      "WARNING: FITSFixedWarning: 'datfix' made the change 'Set MJD-OBS to 58383.404231 from DATE-OBS'. [astropy.wcs.wcs]\n",
      "WARNING: FITSFixedWarning: 'obsfix' made the change 'Set OBSGEO-L to   -67.754929 from OBSGEO-[XYZ].\n",
      "Set OBSGEO-B to   -23.022886 from OBSGEO-[XYZ].\n",
      "Set OBSGEO-H to     5053.796 from OBSGEO-[XYZ]'. [astropy.wcs.wcs]\n"
     ]
    }
   ],
   "source": [
    "# create the grid for the kernel distribution of CO\n",
    "# y is velocity lsr\n",
    "yminco = -10\n",
    "ymaxco = 8\n",
    "xx, yyco = np.mgrid[xmin:xmax:100j, yminco:ymaxco:100j]\n",
    "positionsco = np.vstack([xx.ravel(), yyco.ravel()])\n",
    "# Here we obtain the kernel density estimation of the velocities along the line of sight for CO\n",
    "r_proj, v_los = get_vc_r(vcnameco, regionfileco, ra_yso*u.deg, dec_yso*u.deg, dist_B5)\n",
    "# we select only those who are not nan\n",
    "gd_vlos = np.isfinite(r_proj*v_los)\n",
    "values = np.vstack([r_proj[gd_vlos].value, v_los[gd_vlos].value])\n",
    "# we calculate the kernel distribution\n",
    "kernelCO = stats.gaussian_kde(values)\n",
    "zzCO = np.reshape(kernelCO(positionsco).T, xx.shape)\n",
    "zzCO /= zzCO.max()  # normalization of probability"
   ]
  },
  {
   "cell_type": "code",
   "execution_count": 9,
   "id": "60752328-e2d9-49f1-a7be-22dba240c1c5",
   "metadata": {},
   "outputs": [
    {
     "data": {
      "image/png": "[encoded data removed]",
      "text/plain": [
       "<Figure size 288x288 with 2 Axes>"
      ]
     },
     "metadata": {
      "needs_background": "light"
     },
     "output_type": "display_data"
    }
   ],
   "source": [
    "fig = plt.figure(figsize=(4,4))\n",
    "\n",
    "ax = fig.add_subplot(111)\n",
    "ax.contourf(xx, yyco, zzCO, cmap='Blues', levels=np.arange(0.1, 1.2, 0.1), vmin=0., vmax=1.1)\n",
    "ax.set_xlim([xmin,xmax])\n",
    "ax.set_ylabel(r\"V$_{lsr}$ $^{12}$CO (km s$^{-1}$)\", color='b')\n",
    "ax.tick_params(axis='y', labelcolor='b')\n",
    "\n",
    "ax2 = ax.twinx()\n",
    "ax.set_xlabel('Projected distance (au)')\n",
    "ax2.set_ylabel(r\"V$_{lsr}$ H$_2$CO (km s$^{-1}$)\")\n",
    "ax2.set_yticks([9,9.25,9.5,9.75,10,10.25,10.5,10.75,11])\n",
    "ax2.contourf(xx, yy, zzH2CO, cmap='Greys', levels=np.arange(0.1, 1.2, 0.1), vmin=0., vmax=1.1)\n",
    "# ax2.axhline(10.2, color='k', ls=':')\n",
    "# ax2.set_ylim([velmin,velmax])\n",
    "ax2.set_xlim([xmin,xmax])\n",
    "\n",
    "# we add the streamline model\n",
    "# ax2.plot(dsky0[:150], velo0[:150], color='r')\n",
    "fig.savefig('comparison_KDE_vel_12CO_H2CO.pdf', bbox_inches='tight')\n"
   ]
  },
  {
   "cell_type": "code",
   "execution_count": 8,
   "id": "e3462ef9-77ca-4633-8c66-700b1ea2cf92",
   "metadata": {},
   "outputs": [
    {
     "data": {
      "text/plain": [
       "193"
      ]
     },
     "execution_count": 8,
     "metadata": {},
     "output_type": "execute_result"
    }
   ],
   "source": [
    "len(velo0)"
   ]
  }
 ],
 "metadata": {
  "kernelspec": {
   "display_name": "Python 3 (ipykernel)",
   "language": "python",
   "name": "python3"
  },
  "language_info": {
   "codemirror_mode": {
    "name": "ipython",
    "version": 3
   },
   "file_extension": ".py",
   "mimetype": "text/x-python",
   "name": "python",
   "nbconvert_exporter": "python",
   "pygments_lexer": "ipython3",
   "version": "3.9.7"
  }
 },
 "nbformat": 4,
 "nbformat_minor": 5
}
