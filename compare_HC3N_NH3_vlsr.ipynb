{
 "cells": [
  {
   "cell_type": "markdown",
   "id": "1488a32d-d231-48b8-8692-70db2434c32c",
   "metadata": {},
   "source": [
    "# Comparison between HC$_3$N and NH$_3$"
   ]
  },
  {
   "cell_type": "code",
   "execution_count": 1,
   "id": "4c6d70ee-8f3d-4436-b1d8-fbe9d001cdcf",
   "metadata": {},
   "outputs": [],
   "source": [
    "# original resolution: 4.07672 arcsec x 3.78778 arcsec, pa: -81.4035 deg \n",
    "# matching kernel: 4.65325 arcsec x 4.40231 arcsec, pa: 8.59652 deg \n",
    "# target resolution: 6 arcsec x 6 arcsec, pa: 0 deg\n",
    "import numpy as np\n",
    "from astropy.modeling.models import Gaussian2D\n",
    "import astropy.units as u\n",
    "from astropy.nddata import Cutout2D\n",
    "from astropy.convolution import convolve\n",
    "from astropy.io import fits\n",
    "from astropy.wcs import WCS\n",
    "from astropy.coordinates import SkyCoord\n",
    "from photutils.psf import create_matching_kernel, TopHatWindow\n",
    "import matplotlib.pyplot as plt\n",
    "from reproject import reproject_exact\n",
    "import aplpy\n",
    "from B5setup import *\n",
    "from scipy import stats\n",
    "from scipy.integrate import simpson\n",
    "import os\n",
    "%matplotlib inline"
   ]
  },
  {
   "cell_type": "code",
   "execution_count": 2,
   "id": "f906c760-f62e-4410-a80d-ce4ede3b6b9b",
   "metadata": {},
   "outputs": [],
   "source": [
    "folderHC3N = 'B5_NOEMA_30m/gaussfit/'\n",
    "maskfile = folderHC3N + 'B5-NOEMA+30m-H3CN-10-9_cut_K_mask'\n",
    "# for velocity:\n",
    "filenameHC3Nvlsr = folderHC3N + 'B5-NOEMA+30m-H3CN-10-9_cut_K_1G_fitparams_filtered_Vlsr'\n",
    "filenameHC3Nvlsr_u = folderHC3N + 'B5-NOEMA+30m-H3CN-10-9_cut_K_1G_fitparams_filtered_Vlsr_unc'\n",
    "filenameNH3vlsr = 'B5_previous_data/B5_VLA_GBT_model_vc_QA'\n",
    "diffdatafile = 'B5_Vlsr_HC3N_minus_NH3'\n",
    "\n",
    "# For Velocity dispersion :\n",
    "# filenameHC3Nvlsr = folderHC3N + 'B5-NOEMA+30m-H3CN-10-9_cut_K_1G_fitparams_filtered_SigmaV'\n",
    "# filenameNH3vlsr = 'B5_previous_data/B5_VLA_GBT_model_dv_QA'\n",
    "# diffdatafile = 'B5_SigmaV_HC3N_minus_NH3'\n",
    "\n",
    "filename_convolved = filenameHC3Nvlsr + '_conv_NH3'\n",
    "filename_unc_convolved = filenameHC3Nvlsr_u + '_conv_NH3'\n",
    "filenameNH3_convolved = filenameNH3vlsr + '_reprojectHC3N'\n"
   ]
  },
  {
   "cell_type": "code",
   "execution_count": 3,
   "id": "356a476f-cee0-47dd-83cb-bb141d9fed16",
   "metadata": {},
   "outputs": [],
   "source": [
    "headerHC3N = fits.getheader(filenameHC3Nvlsr+'.fits')\n",
    "headerNH3 = fits.getheader(filenameNH3vlsr+'.fits')\n",
    "wcsHC3N = WCS(headerHC3N)\n",
    "pixsizeHC3N = np.abs(headerHC3N['CDELT2']) # pixel size in degrees\n",
    "pixsizeNH3 = np.abs(headerNH3['CDELT2'])"
   ]
  },
  {
   "cell_type": "markdown",
   "id": "6a19c26b-045f-4a07-80e6-a68275ffced7",
   "metadata": {},
   "source": [
    "We first need to convolve the HC$_3$N to the resolution of NH$_3$"
   ]
  },
  {
   "cell_type": "code",
   "execution_count": 4,
   "id": "07b049a0-1742-4dc2-9e14-7f370b1736df",
   "metadata": {},
   "outputs": [],
   "source": [
    "if not os.path.exists(filename_convolved + '.fits') or not os.path.exists(filename_unc_convolved + '.fits'):\n",
    "# we first need to transform all angle units to pixels\n",
    "    kernelsize = 29\n",
    "    xcent = int(round(kernelsize/2))\n",
    "\n",
    "    bmaj_original = headerHC3N['BMAJ']\n",
    "    bmin_original = headerHC3N['BMIN']\n",
    "    bpa_original = headerHC3N['BPA'] * u.deg\n",
    "    sigmamaj_original_pix = (bmaj_original/pixsizeHC3N) / np.sqrt(8*np.log(2))\n",
    "    sigmamin_original_pix = (bmin_original/pixsizeHC3N) / np.sqrt(8*np.log(2))\n",
    "    bmaj_target = headerNH3['BMAJ']\n",
    "    bmin_target = headerNH3['BMIN']\n",
    "    bpa_target = headerNH3['BPA'] * u.deg\n",
    "    sigmamaj_target_pix = (bmaj_target/pixsizeHC3N) / np.sqrt(8*np.log(2))\n",
    "    sigmamin_target_pix = (bmin_target/pixsizeHC3N) / np.sqrt(8*np.log(2))\n",
    "    \n",
    "    y, x = np.mgrid[0:kernelsize, 0:kernelsize]\n",
    "    beamoriginalg = Gaussian2D(100, xcent, xcent, sigmamaj_original_pix, sigmamin_original_pix, theta=bpa_original)\n",
    "    beamtargetg = Gaussian2D(100, xcent, xcent, sigmamaj_target_pix, sigmamin_target_pix, theta=bpa_target)\n",
    "    beamoriginal = beamoriginalg(x, y)\n",
    "    beamtarget = beamtargetg(x, y)\n",
    "    beamtarget /= np.sum(beamtarget)\n",
    "    window = TopHatWindow(beta=0.45)\n",
    "    matchingkernel = create_matching_kernel(beamoriginal, beamtarget, window=window)\n",
    "    \n",
    "    mask = fits.getdata(maskfile+'.fits')\n",
    "    if not os.path.exists(filename_convolved + '.fits'):\n",
    "        HC3Nvlsr = fits.getdata(filenameHC3Nvlsr+'.fits') \n",
    "    \n",
    "        HC3Nvlsrconvolved = convolve(HC3Nvlsr, matchingkernel)\n",
    "        HC3Nvlsrconvolved = np.where(mask, HC3Nvlsrconvolved, np.nan)\n",
    "\n",
    "        newheaderHC3N = headerHC3N.copy()\n",
    "        newheaderHC3N['BMAJ'] = bmaj_target\n",
    "        newheaderHC3N['BMIN'] = bmin_target\n",
    "        newheaderHC3N['BPA'] = bpa_target.value\n",
    "    \n",
    "        fits.writeto(filename_convolved+'.fits', HC3Nvlsrconvolved, newheaderHC3N)\n",
    "        \n",
    "    if not os.path.exists(filename_unc_convolved + '.fits'):\n",
    "        HC3Nvlsr_u = fits.getdata(filenameHC3Nvlsr_u+'.fits')\n",
    "        aprox_sigma_kernel = np.sqrt(sigmamaj_target_pix -sigmamaj_original_pix)\n",
    "        \n",
    "        matchingkernel_unc_factor = (2 * np.sqrt(np.pi) * sigmamaj_original_pix * aprox_sigma_kernel / np.sqrt(aprox_sigma_kernel**2 + sigmamaj_original_pix**2))\n",
    "        matchingkernel_unc = matchingkernel ** 2 * matchingkernel_unc_factor\n",
    "        HC3Nvlsr_uconvolved = convolve(HC3Nvlsr_u, matchingkernel_unc)\n",
    "        HC3Nvlsr_uconvolved = np.where(mask, HC3Nvlsr_uconvolved, np.nan)\n",
    "\n",
    "        newheaderHC3N = headerHC3N.copy()\n",
    "        newheaderHC3N['BMAJ'] = bmaj_target\n",
    "        newheaderHC3N['BMIN'] = bmin_target\n",
    "        newheaderHC3N['BPA'] = bpa_target.value\n",
    "    \n",
    "        fits.writeto(filename_unc_convolved+'.fits', HC3Nvlsr_uconvolved, newheaderHC3N)\n",
    "    HC3Nvlsrconvolved = fits.getdata(filename_convolved + '.fits')\n",
    "    HC3Nvlsr_uconvolved = fits.getdata(filename_unc_convolved + '.fits')\n",
    "else:\n",
    "    HC3Nvlsrconvolved, newheaderHC3N = fits.getdata(filename_convolved + '.fits', header=True)\n",
    "    HC3Nvlsr_uconvolved = fits.getdata(filename_unc_convolved + '.fits')"
   ]
  },
  {
   "cell_type": "markdown",
   "id": "576e8ba7-a952-41f5-bfaf-e745a34e4856",
   "metadata": {},
   "source": [
    "Now we need to regrid the NH$_3$ image to the HC$_3$N grid."
   ]
  },
  {
   "cell_type": "code",
   "execution_count": 5,
   "id": "58354d94-d657-41c1-896d-c36c57a6b077",
   "metadata": {},
   "outputs": [],
   "source": [
    "if not os.path.exists(filenameNH3_convolved+'.fits'):\n",
    "    NH3hdu = fits.open(filenameNH3vlsr + '.fits')\n",
    "    key_remove = ['PC03_01', 'PC04_01', 'PC01_03', 'PC02_03', 'PC03_02', 'PC04_02','PC03_03', 'PC04_03', 'PC01_04',\n",
    "                  'PC02_04', 'PC03_04', 'PC04_04', 'CUNIT3', 'CRPIX4','CDELT4','CUNIT4','CTYPE4','CRVAL4','SPECSYS']\n",
    "    for key_i in key_remove: # there are more dimensions written in the NH3 fits file\n",
    "        NH3hdu[0].header.remove(key_i)\n",
    "    newNH3image, footprint = reproject_exact(NH3hdu[0], newheaderHC3N)\n",
    "    # now we modify the spatial properties of the NH3 Header\n",
    "    newheaderNH3 = NH3hdu[0].header.copy() # we use this header as it has the resolution\n",
    "    key_modify = ['CUNIT1', 'CRPIX1','CDELT1','CTYPE1','CRVAL1', 'CUNIT2', 'CRPIX2','CDELT2','CTYPE2','CRVAL2']\n",
    "    for key_i in key_modify: # there are more dimensions written in the NH3 fits file\n",
    "        newheaderNH3[key_i] = newheaderHC3N[key_i]\n",
    "\n",
    "    fits.writeto(filenameNH3_convolved+'.fits', newNH3image, newheaderNH3)\n",
    "    NH3hdu.close()\n",
    "else:\n",
    "    newNH3image = fits.getdata(filenameNH3_convolved+'.fits')"
   ]
  },
  {
   "cell_type": "markdown",
   "id": "fce3f6c8-3291-4c06-a5f7-57c9a5b534f1",
   "metadata": {},
   "source": [
    "We look at the difference of HC$_3$N with respect to NH$_3$"
   ]
  },
  {
   "cell_type": "code",
   "execution_count": 6,
   "id": "318d9fc6-c160-4783-b250-56f152629f1d",
   "metadata": {},
   "outputs": [],
   "source": [
    "diff = HC3Nvlsrconvolved - newNH3image\n",
    "newhead = newheaderHC3N.copy()\n",
    "newhead.remove('BUNIT')\n",
    "if not os.path.exists(diffdatafile + '.fits'):\n",
    "    fits.writeto(diffdatafile + '.fits', diff, newhead)\n"
   ]
  },
  {
   "cell_type": "code",
   "execution_count": 7,
   "id": "4e8ad670-2a00-436f-b4da-5ed94ab236d8",
   "metadata": {},
   "outputs": [
    {
     "name": "stderr",
     "output_type": "stream",
     "text": [
      "/home/mvaldivi/anaconda3/envs/python3/lib/python3.9/site-packages/aplpy/core.py:787: MatplotlibDeprecationWarning: You are modifying the state of a globally registered colormap. This has been deprecated since 3.3 and in 3.6, you will not be able to modify a registered colormap in-place. To remove this warning, you can make a copy of the colormap first. cmap = mpl.cm.get_cmap(\"RdYlBu_r\").copy()\n",
      "  cm.set_bad(color)\n"
     ]
    },
    {
     "data": {
      "image/png": "[encoded data removed]",
      "text/plain": [
       "<Figure size 288x288 with 2 Axes>"
      ]
     },
     "metadata": {
      "needs_background": "light"
     },
     "output_type": "display_data"
    }
   ],
   "source": [
    "# we plot quickly the difference\n",
    "fig = plt.figure(figsize=(4,4))\n",
    "velmin = -0.2\n",
    "velmax = 0.2\n",
    "ax = plot_aplpy_subfig(diffdatafile + '.fits', \n",
    "                       fig, (1,1,1), 'linear', velmin, \n",
    "                       velmax, 'RdYlBu_r')\n",
    "ax.add_label(0.6, 0.04, \n",
    "             r'$V_{\\mathrm{LSR},\\mathrm{HC}_3\\mathrm{N}(10-9)} - V_{\\mathrm{LSR}, \\mathrm{NH}_3(1,1)}$', \n",
    "             relative=True, family='sans-serif', size=12)\n",
    "# fig.savefig(folderHC3N + diffdatafile + '.pdf', bbox_inches='tight')"
   ]
  },
  {
   "cell_type": "markdown",
   "id": "15c08921-54d1-489e-8f48-c2ef17d35318",
   "metadata": {},
   "source": [
    "Now we do the KDE of the velocity difference distribution, first in 1 dimension and then in 2"
   ]
  },
  {
   "cell_type": "code",
   "execution_count": 8,
   "id": "1aebead7-f859-4259-9821-09b1924b526f",
   "metadata": {},
   "outputs": [],
   "source": [
    "# create the grid for the 1D kernel distribution\n",
    "data_kde = np.linspace(-0.4, 0.4, 100)\n",
    "data = fits.getdata(diffdatafile + '.fits').flatten()\n",
    "data = data[~np.isnan(data)]\n",
    "p_range = np.array([0.15865 * 100, 50., 0.84135 * 100]) # I believe this is one sigma? ask Jaime\n",
    "vlsr_median_unc = np.round(np.percentile(data, p_range), decimals=2)\n",
    "\n",
    "kernel = stats.gaussian_kde(data)\n",
    "dens = kernel(data_kde)\n",
    "dens /= simpson(dens, data_kde) # normalizing of probability\n",
    "\n",
    "datasave = np.array([data_kde, dens, vlsr_median_unc], dtype=object)\n",
    "if not os.path.exists(diffdatafile+'.npy'):\n",
    "    np.save(diffdatafile+'.npy', datasave)"
   ]
  },
  {
   "cell_type": "code",
   "execution_count": 9,
   "id": "59bd692c-49a2-4fe8-9875-e71e52d26745",
   "metadata": {},
   "outputs": [],
   "source": [
    "# fig = plt.figure()\n",
    "# ax = fig.add_subplot(111)\n",
    "# ax.hist(data, fc='k', bins='fd', density=True)\n",
    "# ax.plot(data_kde, dens)\n",
    "# ax.set_xlim([-0.4, 0.4])\n",
    "# ax.plot([vlsr_median_unc[1], vlsr_median_unc[1]], [0.5, 2], color='C1', ls='--')\n",
    "# ax.text(vlsr_median_unc[1]-0.05,1.1,r'{0}$_{{{1:.2f}}}^{{+{2:.2f}}}$'.format(vlsr_median_unc[1], vlsr_median_unc[0]-vlsr_median_unc[1], vlsr_median_unc[2]-vlsr_median_unc[1]), size=10, color='C1')\n"
   ]
  },
  {
   "cell_type": "code",
   "execution_count": 10,
   "id": "fa96734b-44de-4b16-92f8-c803b704dbdf",
   "metadata": {},
   "outputs": [],
   "source": [
    "# This part only works for velocity\n",
    "# x is v_LSR of HC3N\n",
    "xmin = 9.8\n",
    "xmax = 10.8\n",
    "# y is v_LSR of NH3\n",
    "ymin = 9.8\n",
    "ymax = 10.8\n",
    "xx, yy = np.mgrid[xmin:xmax:100j, ymin:ymax:100j]\n",
    "positions = np.vstack([xx.ravel(), yy.ravel()])\n",
    "# we select only those who are not nan\n",
    "gd_vlos = np.isfinite(HC3Nvlsrconvolved * newNH3image)\n",
    "values = np.vstack([HC3Nvlsrconvolved[gd_vlos], newNH3image[gd_vlos]])\n",
    "# we calculate the kernel distribution\n",
    "kernel = stats.gaussian_kde(values)\n",
    "zz = np.reshape(kernel(positions).T, xx.shape)\n",
    "zz /= zz.max()\n",
    "\n",
    "datasave = np.array([xx, yy, zz])\n",
    "if not os.path.exists(diffdatafile+'_2DKDE.npy'):\n",
    "    np.save(diffdatafile+'_2DKDE.npy', datasave)\n"
   ]
  },
  {
   "cell_type": "code",
   "execution_count": 11,
   "id": "a88db764-b6fa-45f6-8d61-c28c9f5f1cd9",
   "metadata": {},
   "outputs": [],
   "source": [
    "# just to check it quickly\n",
    "# fig = plt.figure()\n",
    "# ax = fig.add_subplot(111)\n",
    "# ax.contourf(xx, yy, zz, cmap='Greys', levels=np.arange(0.1, 1.2, 0.1), vmin=0., vmax=1.1)\n",
    "# ax.plot([9.8, 10.8], [9.8, 10.8])"
   ]
  },
  {
   "cell_type": "markdown",
   "id": "9f690769-3974-48b3-b1dc-75fdf71a55db",
   "metadata": {},
   "source": [
    "## Cuts along horizontal and vertical samples\n",
    "We cut a box around the protostar and determine the position of maximum difference to plot the velocities of both molecules in horizontal and vertical cuts"
   ]
  },
  {
   "cell_type": "code",
   "execution_count": 12,
   "id": "e33516b6-509c-4c34-a37b-7cf3b45151dd",
   "metadata": {},
   "outputs": [],
   "source": [
    "position_irs1 = SkyCoord(ra_yso*u.deg, dec_yso*u.deg, frame='fk5')\n",
    "boxsize = 50\n",
    "wcs_diff = WCS(newhead)\n",
    "cutout = Cutout2D(diff, position_irs1, (boxsize, boxsize), wcs=wcs_diff)\n",
    "diff_small = cutout.data\n",
    "y_min, x_min = np.unravel_index(np.nanargmin(diff_small), diff_small.shape)"
   ]
  },
  {
   "cell_type": "code",
   "execution_count": 13,
   "id": "468c3af9-02a8-4193-babc-a0155e4a2e94",
   "metadata": {},
   "outputs": [],
   "source": [
    "# we need to cut both images\n",
    "chansize_hc3n = 0.21 / np.sqrt(2*np.pi)/2.35\n",
    "chansize_nh3 = 0.04 / np.sqrt(2*np.pi)/2.35 # ask if they are independent\n",
    "cutout2 = Cutout2D(HC3Nvlsrconvolved, position_irs1, (boxsize, boxsize), wcs=wcs_diff)\n",
    "hc3nvel_small = cutout2.data\n",
    "cutout3 = Cutout2D(newNH3image, position_irs1, (boxsize, boxsize), wcs=wcs_diff)\n",
    "nh3vel_small = cutout3.data\n",
    "\n",
    "cutout4 = Cutout2D(HC3Nvlsr_uconvolved, position_irs1, (boxsize, boxsize), wcs=wcs_diff)\n",
    "hc3nvel_small_u = cutout4.data"
   ]
  },
  {
   "cell_type": "code",
   "execution_count": 14,
   "id": "c1a222d0-6a01-4d11-bc95-ce68e51b4ab7",
   "metadata": {},
   "outputs": [],
   "source": [
    "nh3vls_hor = nh3vel_small[y_min]\n",
    "hc3nvls_hor = hc3nvel_small[y_min]\n",
    "hc3nvls_hor_u = hc3nvel_small_u[y_min]\n",
    "nh3vls_ver =nh3vel_small[:, x_min]\n",
    "hc3nvls_ver = hc3nvel_small[:, x_min]\n",
    "hc3nvls_ver_u = hc3nvel_small_u[:, x_min]\n",
    "# add the beam\n",
    "xarray = np.linspace(0, boxsize, boxsize) - x_min\n",
    "yarray = np.linspace(0, boxsize, boxsize) - y_min"
   ]
  },
  {
   "cell_type": "code",
   "execution_count": 15,
   "id": "2c0cfe91-197f-4ea2-bbd6-c8ed11b36b26",
   "metadata": {},
   "outputs": [
    {
     "data": {
      "text/plain": [
       "<ErrorbarContainer object of 3 artists>"
      ]
     },
     "execution_count": 15,
     "metadata": {},
     "output_type": "execute_result"
    },
    {
     "data": {
      "image/png": "[encoded data removed]",
      "text/plain": [
       "<Figure size 288x288 with 1 Axes>"
      ]
     },
     "metadata": {
      "needs_background": "light"
     },
     "output_type": "display_data"
    }
   ],
   "source": [
    "fig = plt.figure(figsize = (4,4))\n",
    "ax = fig.add_subplot(111)\n",
    "ax.errorbar(xarray, hc3nvls_hor, yerr=hc3nvls_hor_u, color='C0', marker='o', linestyle='None')\n",
    "ax.errorbar(xarray, nh3vls_hor, yerr=chansize_nh3, color='C1', marker='o', linestyle='None')"
   ]
  },
  {
   "cell_type": "code",
   "execution_count": 16,
   "id": "73eccd23-3d60-47d9-b575-5bf3efebbc87",
   "metadata": {},
   "outputs": [
    {
     "data": {
      "text/plain": [
       "<ErrorbarContainer object of 3 artists>"
      ]
     },
     "execution_count": 16,
     "metadata": {},
     "output_type": "execute_result"
    },
    {
     "data": {
      "image/png": "[encoded data removed]",
      "text/plain": [
       "<Figure size 288x288 with 1 Axes>"
      ]
     },
     "metadata": {
      "needs_background": "light"
     },
     "output_type": "display_data"
    }
   ],
   "source": [
    "fig = plt.figure(figsize = (4,4))\n",
    "ax = fig.add_subplot(111)\n",
    "ax.errorbar(yarray, hc3nvls_ver, yerr=hc3nvls_ver_u, color='C0', marker='o', linestyle='None')\n",
    "ax.errorbar(yarray, nh3vls_ver, yerr=chansize_nh3, color='C1', marker='o', linestyle='None')"
   ]
  }
 ],
 "metadata": {
  "kernelspec": {
   "display_name": "Python 3 (ipykernel)",
   "language": "python",
   "name": "python3"
  },
  "language_info": {
   "codemirror_mode": {
    "name": "ipython",
    "version": 3
   },
   "file_extension": ".py",
   "mimetype": "text/x-python",
   "name": "python",
   "nbconvert_exporter": "python",
   "pygments_lexer": "ipython3",
   "version": "3.9.7"
  }
 },
 "nbformat": 4,
 "nbformat_minor": 5
}
