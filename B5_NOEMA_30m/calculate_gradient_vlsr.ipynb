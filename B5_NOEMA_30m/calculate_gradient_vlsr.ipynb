{
 "cells": [
  {
   "cell_type": "markdown",
   "id": "4645baa9-ad13-4dea-a21b-ac8c33fe355b",
   "metadata": {},
   "source": [
    "# $\\nabla v_{LSR}$ in HC$_3$N\n",
    "\n",
    "We calculate the gradient in velocities $v_{LSR}$ adn then visualize it with line integral convolution (LIC). \n",
    "\n",
    "For this, we calculate the gradient in a plane around a radius of approx 2 beam sizes, to sample well resolved structures."
   ]
  },
  {
   "cell_type": "code",
   "execution_count": 1,
   "id": "3217ef92-a8ef-4dfc-a13b-f40ba0e562b9",
   "metadata": {},
   "outputs": [
    {
     "name": "stderr",
     "output_type": "stream",
     "text": [
      "2022-11-10 16:45:36.817308: I tensorflow/core/platform/cpu_feature_guard.cc:193] This TensorFlow binary is optimized with oneAPI Deep Neural Network Library (oneDNN) to use the following CPU instructions in performance-critical operations:  AVX2 FMA\n",
      "To enable them in other operations, rebuild TensorFlow with the appropriate compiler flags.\n",
      "2022-11-10 16:45:39.409011: W tensorflow/stream_executor/platform/default/dso_loader.cc:64] Could not load dynamic library 'libcudart.so.11.0'; dlerror: libcudart.so.11.0: cannot open shared object file: No such file or directory\n",
      "2022-11-10 16:45:39.409050: I tensorflow/stream_executor/cuda/cudart_stub.cc:29] Ignore above cudart dlerror if you do not have a GPU set up on your machine.\n",
      "2022-11-10 16:45:39.545656: E tensorflow/stream_executor/cuda/cuda_blas.cc:2981] Unable to register cuBLAS factory: Attempting to register factory for plugin cuBLAS when one has already been registered\n",
      "2022-11-10 16:45:43.850092: W tensorflow/stream_executor/platform/default/dso_loader.cc:64] Could not load dynamic library 'libnvinfer.so.7'; dlerror: libnvinfer.so.7: cannot open shared object file: No such file or directory\n",
      "2022-11-10 16:45:43.862556: W tensorflow/stream_executor/platform/default/dso_loader.cc:64] Could not load dynamic library 'libnvinfer_plugin.so.7'; dlerror: libnvinfer_plugin.so.7: cannot open shared object file: No such file or directory\n",
      "2022-11-10 16:45:43.862583: W tensorflow/compiler/tf2tensorrt/utils/py_utils.cc:38] TF-TRT Warning: Cannot dlopen some TensorRT libraries. If you would like to use Nvidia GPU with TensorRT, please make sure the missing libraries mentioned above are installed properly.\n"
     ]
    }
   ],
   "source": [
    "import numpy as np\n",
    "import scipy.linalg # we only fit a linear plane so we go with easy linear code\n",
    "from astropy.io import fits\n",
    "import astropy.units as u\n",
    "import sys\n",
    "sys.path.append('../')\n",
    "from B5setup import *\n",
    "import matplotlib.pyplot as plt\n",
    "from licpy.lic import runlic\n",
    "%matplotlib inline"
   ]
  },
  {
   "cell_type": "code",
   "execution_count": 2,
   "id": "25ac9447-8833-4bce-8e30-24186f548ecd",
   "metadata": {},
   "outputs": [],
   "source": [
    "gaussfitfolder = 'gaussfit/'\n",
    "velfile = gaussfitfolder + 'B5-NOEMA+30m-H3CN-10-9_cut_K_1G_fitparams_filtered_Vlsr'\n",
    "nablavelfile = velfile + '_gradient'\n",
    "epsilon = 1e-3 # tolerance to mask values"
   ]
  },
  {
   "cell_type": "code",
   "execution_count": 3,
   "id": "a5cb143e-6e51-4b96-84b4-0b3c98359fde",
   "metadata": {},
   "outputs": [],
   "source": [
    "# test: data that has to be given as input\n",
    "\n",
    "mean = np.array([0.0,0.0,0.0])\n",
    "cov = np.array([[1.0,-0.5,0.8], [-0.5,1.1,0.0], [0.8,0.0,1.0]])\n",
    "data = np.random.multivariate_normal(mean, cov, 50) # is (number of points, [x, y, z])\n",
    "\n",
    "# regular grid covering the domain of the data\n",
    "X,Y = np.meshgrid(np.arange(-3.0, 3.0, 0.5), np.arange(-3.0, 3.0, 0.5))\n",
    "XX = X.flatten()\n",
    "YY = Y.flatten()\n",
    "\n",
    "A = np.c_[data[:,0], data[:,1], np.ones(data.shape[0])] # Design matrix, where we have X, Y and a constant value (we just use 1)\n",
    "C,_,_,_ = scipy.linalg.lstsq(A, data[:,2])    # coefficients: magnitude in X, magnitude in Y and constant"
   ]
  },
  {
   "cell_type": "code",
   "execution_count": 4,
   "id": "c26a166d-e3a1-4989-8f6f-27f0ead16f8f",
   "metadata": {},
   "outputs": [],
   "source": [
    "# we need to sample an area of about 2 beams\n",
    "velfield, velheader = fits.getdata(velfile+'.fits', header=True)\n",
    "y_velfield, x_velfield = np.mgrid[:len(velfield), :len(velfield[0])]\n",
    "beammaj, beammin = velheader['BMAJ'], velheader['BMIN']\n",
    "pixsize_deg = np.abs(velheader['CDELT2'])\n",
    "pixsize_pc = (pixsize_deg * 3600 * dist_B5.value * u.au).to(u.pc).value # this is pixel to pc\n",
    "equivradius = np.sqrt(beammaj * beammin / (4 * np.log(2)))\n",
    "sampleradius = int(np.round(2* equivradius / pixsize_deg, 0))\n",
    "beamarea_pix = np.pi * beammaj * beammin / (4 * np.log(2) * pixsize_deg**2)"
   ]
  },
  {
   "cell_type": "code",
   "execution_count": 5,
   "id": "596b8d5e-f853-463a-8a27-5982cb8a67a0",
   "metadata": {},
   "outputs": [],
   "source": [
    "filled_indices = np.where(~np.isnan(velfield))\n",
    "nablax_map = np.ones(np.shape(velfield)) * np.nan\n",
    "nablay_map = np.ones(np.shape(velfield)) * np.nan"
   ]
  },
  {
   "cell_type": "code",
   "execution_count": 6,
   "id": "b85cb2bb-5a2c-4334-92ca-a6ea681c89e3",
   "metadata": {},
   "outputs": [],
   "source": [
    "for y, x in np.transpose(filled_indices):\n",
    "    sampleregion = velfield[y-sampleradius:y+sampleradius+1, x-sampleradius:x+sampleradius+1]\n",
    "    if np.shape(sampleregion)[0] != np.shape(sampleregion)[1]: \n",
    "        continue\n",
    "    elif np.sum(~np.isnan(sampleregion))<beamarea_pix: \n",
    "        continue\n",
    "    X,Y = np.meshgrid(np.arange(-sampleradius, sampleradius+1, 1), np.arange(-sampleradius, sampleradius+1, 1))\n",
    "    # XX = X.flatten()\n",
    "    # YY = Y.flatten()\n",
    "    # sampleradius+1 will be the center\n",
    "    index_sampleregion_filter = np.where(distancepix(X, Y, sampleradius+1, sampleradius+1)<sampleradius * ~np.isnan(sampleregion))\n",
    "    data_sample = np.transpose([X[index_sampleregion_filter]*pixsize_pc, Y[index_sampleregion_filter]*pixsize_pc, sampleregion[index_sampleregion_filter]])\n",
    "    # data_sample_filtered = data_sample[:, ~np.isnan(data_sample[:, 2])]\n",
    "    A = np.c_[data_sample[:,0],data_sample[:,1], np.ones(data_sample.shape[0])] \n",
    "    C,_,_,_ = scipy.linalg.lstsq(A, data_sample[:,2])\n",
    "    if np.abs(C[0])< epsilon or np.abs(C[1])< epsilon: continue\n",
    "    nablax_map[y, x] = C[0] \n",
    "    nablay_map[y, x] = C[1] \n",
    "    \n",
    "    # we need to get the gradient in km/s/pc"
   ]
  },
  {
   "cell_type": "code",
   "execution_count": 7,
   "id": "ccfa2eb8-37d3-4eab-a4f0-d83883acaa46",
   "metadata": {},
   "outputs": [],
   "source": [
    "gradheader = velheader.copy()\n",
    "gradheader['BUNIT'] = 'km s-1 pc-1'\n",
    "\n",
    "fits.writeto('gradient_x_test.fits', nablax_map, gradheader, overwrite=True)\n",
    "fits.writeto('gradient_y_test.fits', nablay_map, velheader, overwrite=True)"
   ]
  },
  {
   "cell_type": "code",
   "execution_count": 8,
   "id": "f25b4426-2150-4fbd-ba70-f383bcb92709",
   "metadata": {},
   "outputs": [
    {
     "ename": "AttributeError",
     "evalue": "module 'tensorflow' has no attribute 'placeholder'",
     "output_type": "error",
     "traceback": [
      "\u001b[0;31m---------------------------------------------------------------------------\u001b[0m",
      "\u001b[0;31mAttributeError\u001b[0m                            Traceback (most recent call last)",
      "\u001b[0;32m/tmp/ipykernel_16428/936954466.py\u001b[0m in \u001b[0;36m<module>\u001b[0;34m\u001b[0m\n\u001b[0;32m----> 1\u001b[0;31m \u001b[0mtex\u001b[0m \u001b[0;34m=\u001b[0m \u001b[0mrunlic\u001b[0m\u001b[0;34m(\u001b[0m\u001b[0mnablax_map\u001b[0m\u001b[0;34m,\u001b[0m \u001b[0mnablay_map\u001b[0m\u001b[0;34m,\u001b[0m \u001b[0;36m10\u001b[0m\u001b[0;34m)\u001b[0m\u001b[0;34m\u001b[0m\u001b[0;34m\u001b[0m\u001b[0m\n\u001b[0m",
      "\u001b[0;32m~/anaconda3/envs/python3/lib/python3.9/site-packages/licpy-0.2-py3.9-linux-x86_64.egg/licpy/lic.py\u001b[0m in \u001b[0;36mrunlic\u001b[0;34m(vx, vy, L, magnitude)\u001b[0m\n\u001b[1;32m    304\u001b[0m     \u001b[0mtex\u001b[0m \u001b[0;34m=\u001b[0m \u001b[0mnp\u001b[0m\u001b[0;34m.\u001b[0m\u001b[0mrandom\u001b[0m\u001b[0;34m.\u001b[0m\u001b[0mrand\u001b[0m\u001b[0;34m(\u001b[0m\u001b[0mN\u001b[0m\u001b[0;34m,\u001b[0m \u001b[0mM\u001b[0m\u001b[0;34m)\u001b[0m\u001b[0;34m\u001b[0m\u001b[0;34m\u001b[0m\u001b[0m\n\u001b[1;32m    305\u001b[0m \u001b[0;34m\u001b[0m\u001b[0m\n\u001b[0;32m--> 306\u001b[0;31m     \u001b[0mtex_\u001b[0m \u001b[0;34m=\u001b[0m \u001b[0mtf\u001b[0m\u001b[0;34m.\u001b[0m\u001b[0mplaceholder\u001b[0m\u001b[0;34m(\u001b[0m\u001b[0mtf\u001b[0m\u001b[0;34m.\u001b[0m\u001b[0mfloat64\u001b[0m\u001b[0;34m,\u001b[0m \u001b[0;34m[\u001b[0m\u001b[0mN\u001b[0m\u001b[0;34m,\u001b[0m \u001b[0mM\u001b[0m\u001b[0;34m]\u001b[0m\u001b[0;34m)\u001b[0m\u001b[0;34m\u001b[0m\u001b[0;34m\u001b[0m\u001b[0m\n\u001b[0m\u001b[1;32m    307\u001b[0m     \u001b[0mvx_\u001b[0m \u001b[0;34m=\u001b[0m \u001b[0mtf\u001b[0m\u001b[0;34m.\u001b[0m\u001b[0mplaceholder\u001b[0m\u001b[0;34m(\u001b[0m\u001b[0mtf\u001b[0m\u001b[0;34m.\u001b[0m\u001b[0mfloat64\u001b[0m\u001b[0;34m,\u001b[0m \u001b[0;34m[\u001b[0m\u001b[0mN\u001b[0m\u001b[0;34m,\u001b[0m \u001b[0mM\u001b[0m\u001b[0;34m]\u001b[0m\u001b[0;34m)\u001b[0m\u001b[0;34m\u001b[0m\u001b[0;34m\u001b[0m\u001b[0m\n\u001b[1;32m    308\u001b[0m     \u001b[0mvy_\u001b[0m \u001b[0;34m=\u001b[0m \u001b[0mtf\u001b[0m\u001b[0;34m.\u001b[0m\u001b[0mplaceholder\u001b[0m\u001b[0;34m(\u001b[0m\u001b[0mtf\u001b[0m\u001b[0;34m.\u001b[0m\u001b[0mfloat64\u001b[0m\u001b[0;34m,\u001b[0m \u001b[0;34m[\u001b[0m\u001b[0mN\u001b[0m\u001b[0;34m,\u001b[0m \u001b[0mM\u001b[0m\u001b[0;34m]\u001b[0m\u001b[0;34m)\u001b[0m\u001b[0;34m\u001b[0m\u001b[0;34m\u001b[0m\u001b[0m\n",
      "\u001b[0;31mAttributeError\u001b[0m: module 'tensorflow' has no attribute 'placeholder'"
     ]
    }
   ],
   "source": [
    "tex = runlic(nablax_map, nablay_map, 10)\n"
   ]
  },
  {
   "cell_type": "code",
   "execution_count": null,
   "id": "d94da3cd-15b9-4cac-8034-b3f45c9763eb",
   "metadata": {},
   "outputs": [],
   "source": [
    "plt.imshow(tex)"
   ]
  }
 ],
 "metadata": {
  "kernelspec": {
   "display_name": "Python 3 (ipykernel)",
   "language": "python",
   "name": "python3"
  },
  "language_info": {
   "codemirror_mode": {
    "name": "ipython",
    "version": 3
   },
   "file_extension": ".py",
   "mimetype": "text/x-python",
   "name": "python",
   "nbconvert_exporter": "python",
   "pygments_lexer": "ipython3",
   "version": "3.9.7"
  }
 },
 "nbformat": 4,
 "nbformat_minor": 5
}
