{
 "cells": [
  {
   "cell_type": "markdown",
   "id": "4645baa9-ad13-4dea-a21b-ac8c33fe355b",
   "metadata": {},
   "source": [
    "# $\\nabla v_{LSR}$ in HC$_3$N\n",
    "\n",
    "We calculate the gradient in velocities $v_{LSR}$ adn then visualize it with line integral convolution (LIC). \n",
    "\n",
    "For this, we calculate the gradient in a plane around a radius of approx 2 beam sizes, to sample well resolved structures."
   ]
  },
  {
   "cell_type": "code",
   "execution_count": 1,
   "id": "3217ef92-a8ef-4dfc-a13b-f40ba0e562b9",
   "metadata": {},
   "outputs": [],
   "source": [
    "import numpy as np\n",
    "import scipy.linalg # we only fit a linear plane so we go with easy linear code\n",
    "from astropy.io import fits\n",
    "import astropy.units as u"
   ]
  },
  {
   "cell_type": "code",
   "execution_count": 2,
   "id": "25ac9447-8833-4bce-8e30-24186f548ecd",
   "metadata": {},
   "outputs": [],
   "source": [
    "gaussfitfolder = 'gaussfit/'\n",
    "velfile = gaussfitfolder + 'B5-NOEMA+30m-H3CN-10-9_cut_K_1G_fitparams_filtered_Vlsr'\n",
    "nablavelfile = velfile + '_gradient'"
   ]
  },
  {
   "cell_type": "code",
   "execution_count": 11,
   "id": "a5cb143e-6e51-4b96-84b4-0b3c98359fde",
   "metadata": {},
   "outputs": [],
   "source": [
    "# test: data that has to be given as input\n",
    "\n",
    "mean = np.array([0.0,0.0,0.0])\n",
    "cov = np.array([[1.0,-0.5,0.8], [-0.5,1.1,0.0], [0.8,0.0,1.0]])\n",
    "data = np.random.multivariate_normal(mean, cov, 50) # is (number of points, [x, y, z])\n",
    "\n",
    "# regular grid covering the domain of the data\n",
    "X,Y = np.meshgrid(np.arange(-3.0, 3.0, 0.5), np.arange(-3.0, 3.0, 0.5))\n",
    "XX = X.flatten()\n",
    "YY = Y.flatten()\n",
    "\n",
    "A = np.c_[data[:,0], data[:,1], np.ones(data.shape[0])] # Design matrix, where we have X, Y and a constant value (we just use 1)\n",
    "C,_,_,_ = scipy.linalg.lstsq(A, data[:,2])    # coefficients, magnitude in X, magnitude in Y and constant"
   ]
  },
  {
   "cell_type": "code",
   "execution_count": 13,
   "id": "c26a166d-e3a1-4989-8f6f-27f0ead16f8f",
   "metadata": {},
   "outputs": [
    {
     "data": {
      "text/plain": [
       "array([ 0.98033152,  0.42068716, -0.05339694])"
      ]
     },
     "execution_count": 13,
     "metadata": {},
     "output_type": "execute_result"
    }
   ],
   "source": [
    "C"
   ]
  },
  {
   "cell_type": "code",
   "execution_count": null,
   "id": "596b8d5e-f853-463a-8a27-5982cb8a67a0",
   "metadata": {},
   "outputs": [],
   "source": []
  }
 ],
 "metadata": {
  "kernelspec": {
   "display_name": "Python 3 (ipykernel)",
   "language": "python",
   "name": "python3"
  },
  "language_info": {
   "codemirror_mode": {
    "name": "ipython",
    "version": 3
   },
   "file_extension": ".py",
   "mimetype": "text/x-python",
   "name": "python",
   "nbconvert_exporter": "python",
   "pygments_lexer": "ipython3",
   "version": "3.9.7"
  }
 },
 "nbformat": 4,
 "nbformat_minor": 5
}
