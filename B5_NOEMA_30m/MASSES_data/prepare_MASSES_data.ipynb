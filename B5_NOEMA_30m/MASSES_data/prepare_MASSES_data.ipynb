{
 "cells": [
  {
   "cell_type": "code",
   "execution_count": 1,
   "id": "9e36fb9e",
   "metadata": {},
   "outputs": [],
   "source": [
    "import numpy as np\n",
    "from astropy.io import fits\n",
    "from spectral_cube import SpectralCube\n",
    "import astropy.units as u"
   ]
  },
  {
   "cell_type": "code",
   "execution_count": 10,
   "id": "47496ff2",
   "metadata": {},
   "outputs": [
    {
     "name": "stderr",
     "output_type": "stream",
     "text": [
      "WARNING: StokesWarning: Cube is a Stokes cube, returning spectral cube for I component [spectral_cube.io.core]\n"
     ]
    }
   ],
   "source": [
    "# data files\n",
    "CO21file = 'Per53.12CO21.robust1'\n",
    "CO21cube = SpectralCube.read(CO21file+'.fits').with_spectral_unit(u.km/u.s)\n",
    "bluecontlevels = [0.82+i*1.3 for i in range(4)]\n",
    "redcontlevels = [1+i*3 for i in range(4)]\n",
    "velblue = np.array([0, 8.5]) * u.km/u.s\n",
    "velred = np.array([11.5,23]) * u.km/u.s"
   ]
  },
  {
   "cell_type": "code",
   "execution_count": 11,
   "id": "71849b18",
   "metadata": {},
   "outputs": [],
   "source": [
    "mom0blue = CO21cube.spectral_slab(velblue[0], velblue[1]).moment(order=0)\n",
    "mom0red = CO21cube.spectral_slab(velred[0], velred[1]).moment(order=0)\n",
    "mom0blue.write(CO21file + '_blue.fits', overwrite=True)\n",
    "mom0red.write(CO21file + '_red.fits', overwrite=True)"
   ]
  },
  {
   "cell_type": "code",
   "execution_count": null,
   "id": "7a8490a0",
   "metadata": {},
   "outputs": [],
   "source": []
  }
 ],
 "metadata": {
  "kernelspec": {
   "display_name": "Python 3 (ipykernel)",
   "language": "python",
   "name": "python3"
  },
  "language_info": {
   "codemirror_mode": {
    "name": "ipython",
    "version": 3
   },
   "file_extension": ".py",
   "mimetype": "text/x-python",
   "name": "python",
   "nbconvert_exporter": "python",
   "pygments_lexer": "ipython3",
   "version": "3.9.7"
  }
 },
 "nbformat": 4,
 "nbformat_minor": 5
}
