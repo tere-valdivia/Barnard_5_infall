{
 "cells": [
  {
   "cell_type": "markdown",
   "id": "4351d203-151b-4ca8-9d57-3df44c047085",
   "metadata": {
    "tags": []
   },
   "source": [
    "# Estimation of the mass and infall rate within filaments\n",
    "\n",
    "\n"
   ]
  },
  {
   "cell_type": "markdown",
   "id": "5f184d34-d018-4808-8e78-082a7b940a08",
   "metadata": {
    "tags": []
   },
   "source": [
    "## Preparation of integrated images (in the same velocity range)"
   ]
  },
  {
   "cell_type": "code",
   "execution_count": 1,
   "id": "2b063e8a-5bdf-45d3-90d5-313d8743533e",
   "metadata": {},
   "outputs": [],
   "source": [
    "import numpy as np\n",
    "from spectral_cube import SpectralCube\n",
    "from astropy.io import fits\n",
    "from reproject import reproject_exact\n",
    "import matplotlib.pyplot as plt\n",
    "import aplpy\n",
    "from B5setup import *\n",
    "import os\n",
    "import astropy.units as u\n",
    "from astropy.modeling.models import Gaussian2D\n",
    "from photutils.psf import create_matching_kernel\n",
    "from scipy import stats\n",
    "from astropy.table import Table\n",
    "from regions import Regions\n",
    "from astropy.wcs import WCS\n",
    "from scipy.integrate import simpson\n",
    "\n",
    "%matplotlib inline"
   ]
  },
  {
   "cell_type": "code",
   "execution_count": 2,
   "id": "f816caf6-ed77-4401-88e2-e36e6b268e91",
   "metadata": {},
   "outputs": [],
   "source": [
    "# we need to make sure the images are both at the same resolution and the same pixel scale, as well as integrated in the same range\n",
    "# to make everything easier, both are in K\n",
    "hc3n_10_9_original = 'B5-NOEMA+30m-H3CN-10-9_cut_K'\n",
    "hc3n_8_7_original = 'B5-NOEMA+30m-H3CN-8-7_cut_K'\n",
    "hc3n_10_9_snr = hc3n_10_9_original +'_snr'\n",
    "hc3n_10_9_rms = hc3n_10_9_original +'_rms'\n",
    "hc3n_10_9_Tpeak = hc3n_10_9_original +'_Tpeak'\n",
    "hc3n_10_9_snr_regrid = hc3n_10_9_snr + '_regrid'\n",
    "hc3n_10_9_rms_regrid = hc3n_10_9_rms + '_regrid'\n",
    "hc3n_10_9_Tpeak_regrid = hc3n_10_9_Tpeak  + '_regrid'\n",
    "\n",
    "hc3n_8_7_snr = hc3n_8_7_original + '_snr'\n",
    "hc3n_8_7_rms = hc3n_8_7_original + '_rms'\n",
    "hc3n_8_7_Tpeak = hc3n_8_7_original + '_Tpeak'\n",
    "\n",
    "velinit = 9.2\n",
    "velend = 11.2 \n",
    "velinitrms = 5.1\n",
    "\n",
    "hc3n_10_9_int = hc3n_10_9_original+'_int_' + str(velinit) + '_' + str(velend)\n",
    "hc3n_8_7_int = hc3n_8_7_original+'_int_' + str(velinit) + '_' + str(velend)\n",
    "\n",
    "# the beam of the 8-7 transition is larger \n",
    "hc3n_10_9_int_convolved = hc3n_10_9_int + '_convolved'\n",
    "hc3n_10_9_int_convolved_regrid = hc3n_10_9_int_convolved + '_regrid'\n",
    "\n",
    "hc3n_ratio = hc3n_10_9_int_convolved_regrid + '_over_8_7'\n",
    "hc3n_ratio_kde = hc3n_ratio + '_kde'\n",
    "region_filaments = 'filaments_mass_area_small.reg'\n",
    "hc3n_Ntot = hc3n_10_9_int + '_Ntot'\n"
   ]
  },
  {
   "cell_type": "code",
   "execution_count": 3,
   "id": "5dc94e6d-cf39-43ec-9bc3-658328252250",
   "metadata": {},
   "outputs": [],
   "source": [
    "if not os.path.exists(hc3n_10_9_int+'.fits'):\n",
    "    cube109 = SpectralCube.read(hc3n_10_9_original+'.fits')\n",
    "    subcube = cube109.spectral_slab(velinit*u.km/u.s, velend*u.km/u.s)\n",
    "    mom0 = subcube.moment0()\n",
    "    mom0.write(hc3n_10_9_int+'.fits')\n",
    "\n",
    "if not os.path.exists(hc3n_8_7_int+'.fits'):\n",
    "    cube87 = SpectralCube.read(hc3n_8_7_original+'.fits')\n",
    "    subcube2 = cube87.spectral_slab(velinit*u.km/u.s, velend*u.km/u.s)\n",
    "    mom02 = subcube2.moment0()\n",
    "    mom02.write(hc3n_8_7_int+'.fits')\n",
    "    "
   ]
  },
  {
   "cell_type": "code",
   "execution_count": 4,
   "id": "a42a4e75-50a5-4f7d-9511-2a9c76402940",
   "metadata": {},
   "outputs": [
    {
     "name": "stdout",
     "output_type": "stream",
     "text": [
      "File exists, continue\n"
     ]
    }
   ],
   "source": [
    "if not os.path.exists(hc3n_10_9_int_convolved+'.fits'):\n",
    "    # mom0109 = fits.getdata(hc3n_10_9_int+'.fits')\n",
    "    \n",
    "    # we need to calculate the covariance of the gaussian of the objective and initial resolutions\n",
    "    pixel_factor = np.abs(mom0109_head['CDELT2']) # how many degrees in a pixel, on the image we will convolve\n",
    "    sigma_maj_obj = mom087_head['BMAJ'] # degrees\n",
    "    sigma_min_obj = mom087_head['BMIN'] # degrees\n",
    "    pa_obj = mom087_head['BPA']# degrees\n",
    "#     cov_factor_obj = (np.tan(2*pa_obj*np.pi/180) * (sigma_maj_obj**2 - sigma_min_obj**2)) / (2 * sigma_maj_obj * sigma_min_obj)\n",
    "    \n",
    "#     sigma_maj_init = mom0109_head['BMAJ']/2.35/pixel_factor # degrees\n",
    "#     sigma_min_init = mom0109_head['BMIN']/2.35/pixel_factor # degrees\n",
    "#     pa_init = mom0109_head['BPA']# degrees\n",
    "#     cov_factor_init = (np.tan(2*pa_init*np.pi/180) * (sigma_maj_init**2 - sigma_min_init**2)) / (2 * sigma_maj_init * sigma_min_init)\n",
    "#     # then we calculate the covariance of the matching kernel\n",
    "#     cov_symmetric_factor = cov_factor_obj*sigma_maj_obj*sigma_min_obj - cov_factor_init*sigma_maj_init*sigma_min_init\n",
    "#     cov_matrix_k = np.array([[sigma_maj_obj**2-sigma_maj_init**2, cov_symmetric_factor],\n",
    "#                              [cov_symmetric_factor, sigma_min_obj**2 - sigma_min_init**2]])\n",
    "    \n",
    "#     kernel = Gaussian2D(100, 0, 0, )\n",
    "    raise IOError('Convolve to Major='+str(np.round(sigma_maj_obj*3600, 3))+'arcsec, minor='+\n",
    "          str(np.round(sigma_min_obj*3600, 3))+'arcsec, PA='+str(np.round(pa_obj, 3))+'deg')\n",
    "else:\n",
    "    print('File exists, continue')"
   ]
  },
  {
   "cell_type": "code",
   "execution_count": 5,
   "id": "1290f37e-6822-46cf-b98e-f620fcd48754",
   "metadata": {},
   "outputs": [
    {
     "name": "stdout",
     "output_type": "stream",
     "text": [
      "All files are ready.\n"
     ]
    }
   ],
   "source": [
    "if not os.path.exists(hc3n_10_9_int_convolved_regrid+'.fits'):\n",
    "    hdu109 = fits.open(hc3n_10_9_int_convolved+'.fits')\n",
    "    header87 = fits.getheader(hc3n_8_7_int+'.fits')\n",
    "    new_array109, footprint = reproject_exact(hdu109[0], header87)\n",
    "    new_head = hdu109[0].header\n",
    "    hdu109.close()\n",
    "    tags = ['CRPIX1', 'CRPIX2', 'CDELT1', 'CDELT2', 'CUNIT1', 'CUNIT2', 'CTYPE1', 'CTYPE2', \n",
    "            'CRVAL1', 'CRVAL2', 'NAXIS1', 'NAXIS2', 'ALTRVAL', 'ALTRPIX']\n",
    "    for tag in tags:\n",
    "        new_head[tag] = header87[tag]\n",
    "    fits.writeto(hc3n_10_9_int_convolved_regrid+'.fits', new_array109, new_head)\n",
    "    \n",
    "else:\n",
    "    print('All files are ready.')"
   ]
  },
  {
   "cell_type": "markdown",
   "id": "c8f4764e-7287-4942-b657-5da6f3e32d3e",
   "metadata": {},
   "source": [
    "## Line ratio across the map\n",
    "\n",
    "We define the line ratio as\n",
    "\n",
    "\\begin{equation}\n",
    "R = \\frac{ \\int T_{R,10-9}dv }{\\int T_{R,8-7}dv}\n",
    "\\end{equation}\n",
    "\n"
   ]
  },
  {
   "cell_type": "code",
   "execution_count": 6,
   "id": "82feacac-f67c-44b0-a970-a418ca5749c3",
   "metadata": {},
   "outputs": [],
   "source": [
    "# first we need where the emission of both molecules has significant SNR\n",
    "\n",
    "if not os.path.exists(hc3n_8_7_snr+'.fits'):\n",
    "    cube87 = SpectralCube.read(hc3n_8_7_original+'.fits')\n",
    "    rmsmap = np.nanstd(cube87.spectral_slab(velinitrms*u.km/u.s, velinit*u.km/u.s).unmasked_data[:,:,:].value, axis=0)\n",
    "    Tpeakmap = np.nanmax(cube87.spectral_slab(velinit*u.km/u.s, velend*u.km/u.s).unmasked_data[:,:,:].value, axis=0)\n",
    "    snrmap87 = Tpeakmap / rmsmap\n",
    "    \n",
    "    hdcube=cube87.header.copy()\n",
    "    key_remove=['NAXIS3','CRPIX3','CDELT3','CUNIT3','CTYPE3','CRVAL3','SPECSYS']\n",
    "    for key_i in key_remove:\n",
    "        hdcube.remove(key_i)\n",
    "    hdcube['WCSAXES'] = 2\n",
    "    hdcube['NAXIS'] = 2\n",
    "    fits.writeto(hc3n_8_7_rms+'.fits', rmsmap, hdcube)\n",
    "    print('Created RMS file')\n",
    "    fits.writeto(hc3n_8_7_Tpeak+'.fits', Tpeakmap, hdcube)\n",
    "    print('Created Tpeak file')\n",
    "    hdcubesnr = hdcube.copy()\n",
    "    hdcubesnr['BUNIT'] = ''\n",
    "    fits.writeto(hc3n_8_7_snr+'.fits', snrmap87, hdcubesnr)\n",
    "    print('Created SNR file')\n",
    "else:\n",
    "    snrmap87 = fits.getdata(hc3n_8_7_snr+'.fits')\n",
    "    \n",
    "if not os.path.exists(hc3n_10_9_snr+'.fits'):\n",
    "    cube109= SpectralCube.read(hc3n_10_9_original+'.fits')\n",
    "    rmsmap = np.nanstd(cube109.spectral_slab(velinitrms*u.km/u.s, velinit*u.km/u.s).unmasked_data[:,:,:].value, axis=0)\n",
    "    Tpeakmap = np.nanmax(cube109.spectral_slab(velinit*u.km/u.s, velend*u.km/u.s).unmasked_data[:,:,:].value, axis=0)\n",
    "    snrmap = Tpeakmap / rmsmap\n",
    "    \n",
    "    hdcube=cube109.header.copy()\n",
    "    key_remove=['NAXIS3','CRPIX3','CDELT3','CUNIT3','CTYPE3','CRVAL3','SPECSYS']\n",
    "    for key_i in key_remove:\n",
    "        hdcube.remove(key_i)\n",
    "    hdcube['WCSAXES'] = 2\n",
    "    hdcube['NAXIS'] = 2\n",
    "    fits.writeto(hc3n_10_9_rms+'.fits', rmsmap, hdcube)\n",
    "    print('Created RMS file')\n",
    "    fits.writeto(hc3n_10_9_Tpeak+'.fits', Tpeakmap, hdcube)\n",
    "    print('Created Tpeak file')\n",
    "    hdcubesnr = hdcube.copy()\n",
    "    hdcubesnr['BUNIT'] = ''\n",
    "    fits.writeto(hc3n_10_9_snr+'.fits', snrmap, hdcubesnr)\n",
    "    print('Created SNR file')\n",
    "\n",
    "    "
   ]
  },
  {
   "cell_type": "code",
   "execution_count": 7,
   "id": "03acb947-9d7c-4642-93e4-98804827095c",
   "metadata": {},
   "outputs": [],
   "source": [
    "# to regrid while keeping flux, we need to regrid both the rms and the Tpeak and then do the snrratio\n",
    "if not os.path.exists(hc3n_10_9_snr_regrid+'.fits'):\n",
    "    rmsmap = fits.open(hc3n_10_9_rms+'.fits')\n",
    "    rmshead = fits.getheader(hc3n_8_7_rms+'.fits')\n",
    "    newrmsmap, footprint = reproject_exact(rmsmap[0], rmshead)\n",
    "    rmsmap.close()\n",
    "    fits.writeto(hc3n_10_9_rms_regrid+'.fits', newrmsmap, rmshead, overwrite=True)\n",
    "    \n",
    "    Tpeakmap = fits.open(hc3n_10_9_Tpeak+'.fits')\n",
    "    Tpeakhead = fits.getheader(hc3n_8_7_Tpeak+'.fits')\n",
    "    newTpeakmap, footprint = reproject_exact(Tpeakmap[0], Tpeakhead)\n",
    "    Tpeakmap.close()\n",
    "    fits.writeto(hc3n_10_9_Tpeak_regrid+'.fits', newTpeakmap, Tpeakhead, overwrite=True)\n",
    "    \n",
    "    snrmap109 = newTpeakmap / newrmsmap\n",
    "    fits.writeto(hc3n_10_9_snr_regrid+'.fits', snrmap_regrid, fits.getheader(hc3n_8_7_snr+'.fits'))\n",
    "    \n",
    "else:\n",
    "    snrmap109 = fits.getdata(hc3n_10_9_snr_regrid+'.fits')\n"
   ]
  },
  {
   "cell_type": "code",
   "execution_count": 8,
   "id": "de41a802-c688-4c43-9309-cbc0674994c8",
   "metadata": {},
   "outputs": [
    {
     "name": "stdout",
     "output_type": "stream",
     "text": [
      "The mean of the ratio is 0.56 with a standard deviation of 0.17\n",
      "<R> = 0.56 +- 0.01\n"
     ]
    }
   ],
   "source": [
    "if not os.path.exists(hc3n_ratio+'.fits'):\n",
    "    maskmap = (snrmap109 > 6) * (snrmap87 > 6)\n",
    "    hc3n109 = fits.getdata(hc3n_10_9_int_convolved_regrid+'.fits')\n",
    "    hc3n109masked = np.where(maskmap, hc3n109, np.nan)\n",
    "    hc3n87 = fits.getdata(hc3n_8_7_int+'.fits')\n",
    "    hc3n87masked = np.where(maskmap, hc3n87, np.nan)\n",
    "\n",
    "    ratio = hc3n109masked/hc3n87masked\n",
    "    newhead_ratio = fits.getheader(hc3n_8_7_int+'.fits')\n",
    "    newhead_ratio['BUNIT'] = ' '\n",
    "    fits.writeto(hc3n_ratio+'.fits', ratio, newhead_ratio)\n",
    "\n",
    "else:\n",
    "    ratio = fits.getdata(hc3n_ratio+'.fits')\n",
    "\n",
    "header10 = fits.getheader(hc3n_10_9_original+'.fits')\n",
    "header8 = fits.getheader(hc3n_8_7_original+'.fits')\n",
    "\n",
    "ratio_flat = ratio.flatten()\n",
    "ratio_flat = ratio_flat[~np.isnan(ratio_flat)]\n",
    "mean = np.mean(ratio_flat)\n",
    "stddev = np.std(ratio_flat)\n",
    "Abeam = np.pi * header8['BMAJ'] * header8['BMIN'] / 4\n",
    "Apix = np.abs(header8['CDELT1'] * header8['CDELT2'])\n",
    "Ntot = len(ratio_flat)\n",
    "mean_unc = stddev / np.sqrt(Ntot * Apix/Abeam)\n",
    "print('The mean of the ratio is '+str(np.round(mean, 2))+' with a standard deviation of '+str(np.round(stddev, 2)))\n",
    "print('<R> = '+str(np.round(mean, 2))+' +- '+str(np.round(mean_unc, 2)))\n",
    "\n"
   ]
  },
  {
   "cell_type": "code",
   "execution_count": 9,
   "id": "a5c7ff57-e3c3-4653-8c9b-002f7b9013e8",
   "metadata": {},
   "outputs": [],
   "source": [
    "# this is just to have a visual of the value\n",
    "# fig = plt.figure(figsize=(6,6))\n",
    "# gc = plot_aplpy_subfig(hc3n_ratio+'.fits', fig, (1,1,1), 'linear', 0, 1, 'inferno')\n",
    "# nh3mom0file = 'B5_VLA_GBT_model_11_mom0_reproject.fits'\n",
    "# nh3mom0levels = [0.1]\n",
    "# gc.show_contour(nh3mom0file, colors='k', linestyles='dashed', levels=nh3mom0levels, zorder=34)"
   ]
  },
  {
   "cell_type": "code",
   "execution_count": 10,
   "id": "f3e1bc50-2a56-4ad6-a04c-0024d6b02891",
   "metadata": {},
   "outputs": [
    {
     "data": {
      "text/plain": [
       "Text(1.05, 2, '0.55$_{-0.14}^{+0.14}$')"
      ]
     },
     "execution_count": 10,
     "metadata": {},
     "output_type": "execute_result"
    },
    {
     "data": {
      "image/png": "[encoded data removed]",
      "text/plain": [
       "<Figure size 432x288 with 1 Axes>"
      ]
     },
     "metadata": {
      "needs_background": "light"
     },
     "output_type": "display_data"
    }
   ],
   "source": [
    "# to make sure it distributes mostly random, we do a KDE\n",
    "data = fits.getdata(hc3n_ratio+'.fits').flatten()\n",
    "data = data[~np.isnan(data)]\n",
    "if not os.path.exists(hc3n_ratio_kde + '.npy'):\n",
    "    data_kde = np.linspace(0, 2, 100)\n",
    "    p_range = np.array([0.15865 * 100, 50., 0.84135 * 100]) # one sigma\n",
    "    ratio_median_unc = np.round(np.percentile(data, p_range), decimals=2)\n",
    "\n",
    "    kernel = stats.gaussian_kde(data)\n",
    "    dens = kernel(data_kde)\n",
    "    dens /= simpson(dens, data_kde) # normalizing of probability\n",
    "\n",
    "    datasave = np.array([data_kde, dens, ratio_median_unc], dtype=object)\n",
    "\n",
    "    np.save(hc3n_ratio_kde + '.npy', datasave)\n",
    "else:\n",
    "    datasave = np.load(hc3n_ratio_kde + '.npy', allow_pickle=True)\n",
    "    data_kde, dens, ratio_median_unc = datasave\n",
    "\n",
    "fig = plt.figure()\n",
    "ax = fig.add_subplot(111)\n",
    "ax.hist(data, fc='k', bins='sturges', density=True)\n",
    "ax.plot(data_kde, dens)\n",
    "ax.set_xlim([0, 2])\n",
    "ax.plot([ratio_median_unc[1], ratio_median_unc[1]], [0.5, 2], color='C1', ls='--')\n",
    "ax.text(ratio_median_unc[1]+0.5,2,r'{0}$_{{{1:.2f}}}^{{+{2:.2f}}}$'.format(ratio_median_unc[1], ratio_median_unc[0]-ratio_median_unc[1], ratio_median_unc[2]-ratio_median_unc[1]), size=16, color='C1')\n"
   ]
  },
  {
   "cell_type": "markdown",
   "id": "fb5097d0-e3a5-4f3b-aca6-4f9f4080977b",
   "metadata": {},
   "source": [
    "## Deriving the density and column density\n",
    "\n",
    "The variations on the ratio seem not to be systematic, except maybe at the location of condensation 1 (there is something going on in there... discuss). So we decide to move on and estimate the masses of the filaments.\n",
    "\n",
    "From Rosolowsky et al 2008, Barnard 5 (pointings 189 to 192) has the following sampled T$_k$:\n",
    "- T(189) = $10.10 \\pm 0.4$ K (north)\n",
    "- T(190) = $10.10 \\pm 0.4$ K (north)\n",
    "- T(191) = $10.00 \\pm 0.4$ K (north)\n",
    "- T(192) = $11.70 \\pm 0.3$ K (south, B5-IRS1 position)\n",
    "\n",
    "With a few tests in RADEX online, we see that with the same parameters as Pineda+2020 we can get a good agreement with both T$_R$ (1.2 K for 10-9 and 2.28 K for 8-7) and the ratio (10-9/8-7 is approx 0.55) for n=10$^5$ cm$^{-3}$. Therefore, we use his table to estimate the column density.\n"
   ]
  },
  {
   "cell_type": "code",
   "execution_count": 11,
   "id": "dba168e9-74f0-426e-a12c-6804e968723f",
   "metadata": {},
   "outputs": [],
   "source": [
    "# function and table are taken from NOEMA_streamer_analysis repo (Pineda+2020)\n",
    "from astropy.constants import c, h, k_B, G\n",
    "gaussmaskfile = 'gaussfit/' + hc3n_10_9_original +'_mask.fits'\n",
    "header_ratio = fits.getheader(hc3n_ratio+'.fits')\n",
    "def col_dens_hc3n(file_tdv, nup=10):\n",
    "    \"\"\"\n",
    "    converts integrated intensity file into column density of the upper level\n",
    "    :param file_tdv: FITS file with integrated intensity file in K km/s\n",
    "    :param nup: integer (default = 10)\n",
    "    :return: Column density in units of cm^-2, as Quantity array\n",
    "    \"\"\"\n",
    "    if nup == 8:\n",
    "        nu = 72.78382*u.GHz\n",
    "        A_ij = 0.294E-04/u.s\n",
    "    elif nup == 10:\n",
    "        nu = 90.97902*u.GHz\n",
    "        A_ij = 0.581e-4/u.s # from CDMS \n",
    "    else:\n",
    "        print('This transition is not available yet')\n",
    "        return np.nan\n",
    "    data, hd = fits.getdata(file_tdv, header=True)\n",
    "    # freq = hd['RESTFREQ'] * u.Hz\n",
    "    TdV = data * u. K * u.km / u.s\n",
    "    N_col = ((8 * np.pi * k_B * nu ** 2) / (h * c ** 3 * A_ij) * TdV ).to(1 / u.cm ** 2)\n",
    "    return N_col\n",
    "\n",
    "# function and table are taken from NOEMA_streamer_analysis repo (Pineda+2020)\n",
    "t13 = Table.read('N13.0_8-7_10-9.dat', format='ascii')\n",
    "n_N13 = 10**(t13['log10(dens)'])\n",
    "T_N13 = t13['Tkin']\n",
    "r_N13 = 1./t13['ratio']\n",
    "\n",
    "\n",
    "def plot_ratios(ax, dens, ratio, temp, N_col=13, label_i=r'N(HC$_3$N)=10$^{12}$ cm$^{-2}$', file_out='test.pdf'):\n",
    "    \"\"\"\n",
    "    \"\"\"\n",
    "    ax.scatter(dens[temp == 10.], ratio[temp == 10.], c='#377eb8', alpha=0.7, label=r'T$_{\\rm kin}$=10 K')\n",
    "    ax.scatter(dens[temp == 12.25], ratio[temp == 12.25], c='#e41a1c', alpha=0.7, label=r'T$_{\\rm kin}$=12.25 K')\n",
    "    dens_min = 500\n",
    "    dens_max = 3e6\n",
    "    ax.set_xlim(dens_min, dens_max)\n",
    "    ax.set_ylim(0, 1)\n",
    "    ax.set_xscale('log')\n",
    "    ax.set_xlabel(r'H$_2$ Density (cm$^{-3}$)')\n",
    "    ax.set_ylabel(r'Ratio of HC$_3$N (10-9)/(8-7)')\n",
    "    ax.text(1e3, 0.85, label_i, fontsize=12)\n",
    "    ax.text(1e3, 0.775, r'$\\Delta$v=0.5 km s$^{-1}$', fontsize=12)\n",
    "    ax.legend(frameon=False, loc=4)\n",
    "    return\n"
   ]
  },
  {
   "cell_type": "code",
   "execution_count": 33,
   "id": "d99c70a1-dfd6-49af-b7ff-38848b896739",
   "metadata": {},
   "outputs": [
    {
     "data": {
      "image/png": "[encoded data removed]",
      "text/plain": [
       "<Figure size 288x288 with 1 Axes>"
      ]
     },
     "metadata": {
      "needs_background": "light"
     },
     "output_type": "display_data"
    }
   ],
   "source": [
    "fig = plt.figure(figsize=(4,4))\n",
    "ax = fig.add_subplot(111)\n",
    "plot_ratios(ax, n_N13, r_N13, T_N13, N_col=13, label_i=r'N(HC$_3$N)=10$^{13}$ cm$^{-2}$')\n",
    "ax.axhline(mean, color='k')\n",
    "ax.axhline(mean-mean_unc, linestyle=\"--\", color='k')\n",
    "ax.axhline(mean+mean_unc, linestyle=\"--\", color='k')\n",
    "ax.axvline(1.1e5, linewidth=0.5)\n",
    "ax.axvline(1e5, linewidth=0.5)\n",
    "ax.axvline(0.9e5, linewidth=0.5)\n",
    "fig.savefig('N13.0_8-7_10-9_with_B5_ratio.pdf', bbox_inches='tight')"
   ]
  },
  {
   "cell_type": "markdown",
   "id": "cc7ce53b-0921-4970-8e58-88160047fd36",
   "metadata": {},
   "source": [
    "From the plot we can estimate the average H2 density $n=(1.0\\pm0.1)\\times10^5$ cm$^{-3}$ (using a manual zoom and guided by the T=10 K dots). With this, we can obtain the $T_{ex}$ of the 10-9 line from RADEX, $T_{ex}=6.36$ K."
   ]
  },
  {
   "cell_type": "code",
   "execution_count": 13,
   "id": "6e10ecf0-8c05-459e-b965-c192ae116425",
   "metadata": {},
   "outputs": [
    {
     "name": "stdout",
     "output_type": "stream",
     "text": [
      "<N> = 1.506 1 / cm2 +- 0.028 1 / cm2 (x10^13)\n"
     ]
    }
   ],
   "source": [
    "T = 10 * u.K\n",
    "T_ex = 6.36 * u.K # of 10-9 transition of HC3N\n",
    "B0 = 4549.0579 * u.MHz #  (Creswell, Winnewisser & Gerry 1977) \n",
    "gu = 21 #2 J_u + 1, for J=10\n",
    "Eu = 24.01482 * u.K\n",
    "Qrot = k_B * T / (h * B0) * np.exp( (h * B0) / (3 * k_B * T))\n",
    "\n",
    "if not os.path.exists(hc3n_Ntot+'.fits'):\n",
    "    maskmap = fits.getdata(gaussmaskfile)\n",
    "    Ncol10 = col_dens_hc3n(hc3n_10_9_int+'.fits')\n",
    "    \n",
    "    factor_Ntot = Qrot/gu * np.exp((Eu / T_ex).value)\n",
    "\n",
    "    colhead = fits.getheader(hc3n_10_9_int_convolved+'.fits')\n",
    "    colhead['BUNIT'] = 'cm-2'\n",
    "    Ntot = (Ncol10 * factor_Ntot).to(1/u.cm**2)\n",
    "    Ntot = np.where(maskmap, Ntot, np.nan)\n",
    "\n",
    "    fits.writeto(hc3n_Ntot+'.fits', Ntot.value, colhead)\n",
    "else:\n",
    "    Ntot, colhead = fits.getdata(hc3n_Ntot+'.fits', header=True)\n",
    "    Ntot = Ntot / u.cm**2\n",
    "    \n",
    "Ntot_flat = Ntot[~np.isnan(Ntot)].flatten()\n",
    "mean_Ntot = np.mean(Ntot_flat)\n",
    "Abeam10 = np.pi * colhead['BMAJ'] * colhead['BMIN'] / 4\n",
    "Apix10 = np.abs(colhead['CDELT1']*colhead['CDELT2'])\n",
    "stddev_Ntot = np.std(Ntot_flat)\n",
    "Nind = len(Ntot_flat) * Apix10/Abeam10\n",
    "mean_Ntot_unc = stddev_Ntot / np.sqrt(Nind)\n",
    "print('<N> = '+str(np.round(mean_Ntot/1e13, 3)) + ' +- '+str(np.round(mean_Ntot_unc/1e13, 3))+ ' (x10^13)')"
   ]
  },
  {
   "cell_type": "code",
   "execution_count": 14,
   "id": "74ff96b1-f112-4ffe-aa2e-85eef01b1772",
   "metadata": {},
   "outputs": [
    {
     "name": "stdout",
     "output_type": "stream",
     "text": [
      "The mass that comes from the core is between 5.914735904539533 solMass and 55.20420177570231 solMass\n"
     ]
    }
   ],
   "source": [
    "from astropy.constants import u as amu\n",
    "mu_mass = 2.73 # counting H and He\n",
    "X_HC3N_min = 3e-10\n",
    "X_HC3N_max = 2.8e-9\n",
    "\n",
    "Apix_cm = ((Apix * u.deg**2).to(u.rad**2) * dist_B5**2).to(u.cm**2, equivalencies=u.dimensionless_angles())\n",
    "M_tot_min = (np.sum(Ntot_flat) * Apix_cm * mu_mass * amu).to(u.Msun) / X_HC3N_max\n",
    "M_tot_max = (np.sum(Ntot_flat) * Apix_cm * mu_mass * amu).to(u.Msun) / X_HC3N_min\n",
    "\n",
    "print('The mass that comes from the core is between '+str(M_tot_min)+' and '+str(M_tot_max))"
   ]
  },
  {
   "cell_type": "markdown",
   "id": "7dd1182c-bfb0-4c49-a0ea-992bd332460e",
   "metadata": {},
   "source": [
    "## Deriving column density and mass for the individual filaments\n",
    "\n",
    "We can actually take the mean of each filament to compare with Choudhury+in prep\n",
    "\n",
    "The regions we take for the filaments are including areas where I think emission is falling toward the filament, this does not include all of emission from HC$_3$N."
   ]
  },
  {
   "cell_type": "code",
   "execution_count": 15,
   "id": "a0dfbe78-d3ef-419a-bdae-7c74748647de",
   "metadata": {},
   "outputs": [
    {
     "name": "stderr",
     "output_type": "stream",
     "text": [
      "WARNING: AstropyDeprecationWarning: The hms_to_hours function is deprecated and may be removed in a future version.\n",
      "        Use another way of creating angles instead (e.g. a less ambiguous string like '-0h1m2.3s' instead. [astropy.coordinates.angles]\n",
      "WARNING: AstropyDeprecationWarning: The dms_to_degrees function is deprecated and may be removed in a future version.\n",
      "        Use another way of creating angles instead (e.g. a less ambiguous string like '-0d1m2.3s' instead. [astropy.coordinates.angles]\n"
     ]
    }
   ],
   "source": [
    "regions = Regions.read(region_filaments)\n",
    "fil1 = regions[0].to_pixel(WCS(header_ratio)) # north\n",
    "fil2 = regions[1].to_pixel(WCS(header_ratio)) # south\n",
    "fil1_mask = fil1.to_mask().to_image(np.shape(ratio))\n",
    "fil2_mask = fil2.to_mask().to_image(np.shape(ratio))"
   ]
  },
  {
   "cell_type": "code",
   "execution_count": 16,
   "id": "2a37c0dd-5ade-42a2-88f9-a84bf7622b37",
   "metadata": {},
   "outputs": [
    {
     "name": "stdout",
     "output_type": "stream",
     "text": [
      "The mean of the ratio is 0.56 with a standard deviation of 0.15\n",
      "<R> = 0.56 +- 0.011\n"
     ]
    },
    {
     "data": {
      "image/png": "[encoded data removed]",
      "text/plain": [
       "<Figure size 432x288 with 1 Axes>"
      ]
     },
     "metadata": {
      "needs_background": "light"
     },
     "output_type": "display_data"
    }
   ],
   "source": [
    "data_fil1 = np.where(fil1_mask, ratio, np.nan).flatten()\n",
    "data_fil1 = data_fil1[~np.isnan(data_fil1)]\n",
    "if not os.path.exists(hc3n_ratio_kde + '_fil1.npy'):\n",
    "    data_kde_fil1 = np.linspace(0, 2, 100)\n",
    "    p_range_fil1 = np.array([0.15865 * 100, 50., 0.84135 * 100]) # one sigma\n",
    "    ratio_fil1_median_unc = np.round(np.percentile(data_fil1, p_range_fil1), decimals=2)\n",
    "\n",
    "    kernel_1 = stats.gaussian_kde(data_fil1)\n",
    "    dens_1 = kernel_1(data_kde_fil1)\n",
    "    dens_1 /= simpson(dens_1, data_kde_fil1) # normalizing of probability\n",
    "\n",
    "    datasave = np.array([data_kde_fil1, dens_1, ratio_fil1_median_unc], dtype=object)\n",
    "\n",
    "    np.save(hc3n_ratio_kde + '_fil1.npy', datasave)\n",
    "else:\n",
    "    datasave = np.load(hc3n_ratio_kde + '_fil1.npy', allow_pickle=True)\n",
    "    data_kde_fil1, dens_1, ratio_fil1_median_unc = datasave\n",
    "\n",
    "fig = plt.figure()\n",
    "ax = fig.add_subplot(111)\n",
    "ax.hist(data_fil1, fc='k', bins='sturges', density=True)\n",
    "ax.plot(data_kde_fil1, dens)\n",
    "ax.set_xlim([0, 2])\n",
    "ax.plot([ratio_fil1_median_unc[1], ratio_fil1_median_unc[1]], [0.5, 2], color='C1', ls='--')\n",
    "ax.text(ratio_fil1_median_unc[1]+0.5,2,\n",
    "        r'{0}$_{{{1:.2f}}}^{{+{2:.2f}}}$'.format(ratio_fil1_median_unc[1], \n",
    "                                                 ratio_fil1_median_unc[0]-ratio_fil1_median_unc[1], \n",
    "                                                 ratio_fil1_median_unc[2]-ratio_fil1_median_unc[1]), \n",
    "        size=16, color='C1')\n",
    "\n",
    "mean_fil1 = np.mean(data_fil1)\n",
    "stddev_fil1 = np.std(data_fil1)\n",
    "Ntot_fil1 = len(data_fil1)\n",
    "mean_unc_fil1 = stddev_fil1 / np.sqrt(Ntot_fil1 * Apix/Abeam)\n",
    "print('The mean of the ratio is '+str(np.round(mean_fil1, 2))+' with a standard deviation of '+str(np.round(stddev_fil1, 2)))\n",
    "print('<R> = '+str(np.round(mean_fil1, 2))+' +- '+str(np.round(mean_unc_fil1, 3)))"
   ]
  },
  {
   "cell_type": "code",
   "execution_count": 17,
   "id": "4fdf33c8-cc2a-4c3b-bbde-5fbb3fa3fd51",
   "metadata": {},
   "outputs": [
    {
     "name": "stdout",
     "output_type": "stream",
     "text": [
      "The mass of Fil-1 is between 1.2038449581585198 solMass and 11.235886276146184 solMass\n"
     ]
    }
   ],
   "source": [
    "\n",
    "fil1_mask10 = fil1.to_mask().to_image(np.shape(Ntot))\n",
    "Ntot_fil1 = np.where(fil1_mask10, Ntot, np.nan).flatten()\n",
    "Ntot_fil1 = Ntot_fil1[~np.isnan(Ntot_fil1)]\n",
    "Apix_cm = ((Apix * u.deg**2).to(u.rad**2) * dist_B5**2).to(u.cm**2, equivalencies=u.dimensionless_angles())\n",
    "M_tot_fil1_min = (np.sum(Ntot_fil1) * Apix_cm * mu_mass * amu).to(u.Msun) / X_HC3N_max\n",
    "M_tot_fil1_max = (np.sum(Ntot_fil1) * Apix_cm * mu_mass * amu).to(u.Msun) / X_HC3N_min\n",
    "\n",
    "print('The mass of Fil-1 is between '+str(M_tot_fil1_min)+' and '+str(M_tot_fil1_max))"
   ]
  },
  {
   "cell_type": "code",
   "execution_count": 18,
   "id": "6556d41f-ed1d-43dd-b812-bc42a3ecf5b5",
   "metadata": {},
   "outputs": [
    {
     "name": "stdout",
     "output_type": "stream",
     "text": [
      "The mass of Fil-2 is between 1.1531797177235164 solMass and 10.763010698752819 solMass\n"
     ]
    }
   ],
   "source": [
    "fil2_mask10 = fil2.to_mask().to_image(np.shape(Ntot))\n",
    "Ntot_fil2 = np.where(fil2_mask10, Ntot, np.nan).flatten()\n",
    "Ntot_fil2 = Ntot_fil2[~np.isnan(Ntot_fil2)]\n",
    "M_tot_fil2_min = (np.sum(Ntot_fil2) * Apix_cm * mu_mass * amu).to(u.Msun) / X_HC3N_max\n",
    "M_tot_fil2_max = (np.sum(Ntot_fil2) * Apix_cm * mu_mass * amu).to(u.Msun) / X_HC3N_min\n",
    "\n",
    "print('The mass of Fil-2 is between '+str(M_tot_fil2_min)+' and '+str(M_tot_fil2_max))"
   ]
  },
  {
   "cell_type": "markdown",
   "id": "340167cd-9a9d-46a8-9685-5c673a8a88de",
   "metadata": {},
   "source": [
    "## Mass infall rate in Filament 1\n",
    "\n",
    "We see a gradient in the perpendicular direction of the filament, from about 10 to 10.3 km/s. We can use this difference to estimate an infall velocity:\n",
    "\\begin{equation}\n",
    "v_{inf} = \\frac{<v_{red}-v_{blue}>}{2}\n",
    "\\end{equation}\n",
    "\n",
    "Then, the infall rate can be estimated with\n",
    "\\begin{equation}\n",
    "\\dot{m} = S \\rho v_{inf}\n",
    "\\end{equation}\n",
    "\n",
    "We use $\\rho = n\\times m_{h2}$. S is the area of the surface of the filament, we can use the same approx. as in Spandan's paper, to be consistent in the comparison\n"
   ]
  },
  {
   "cell_type": "code",
   "execution_count": 19,
   "id": "553b6a19-6b8e-4218-b7db-fcdd66ea0889",
   "metadata": {},
   "outputs": [
    {
     "name": "stdout",
     "output_type": "stream",
     "text": [
      "3.228137489187403e-05 solMass / yr\n"
     ]
    }
   ],
   "source": [
    "S_pc = np.pi * (0.05*u.pc) * 0.2*u.pc\n",
    "vinf = 0.15 * u.km/u.s\n",
    "rho = 1e5 * u.cm**-3 * mu_mass * amu\n",
    "\n",
    "Mdot_fil1 = (S_pc * vinf * rho).to(u.Msun/u.yr)\n",
    "print(Mdot_fil1)"
   ]
  },
  {
   "cell_type": "markdown",
   "id": "ccb8ea67-21f1-4efb-98ba-55934d29e7d8",
   "metadata": {},
   "source": [
    "Another way to calculate it is $\\dot{m} = m/t_{ff}$ where \n",
    "\\begin{equation}\n",
    "t_{ff} = \\sqrt{\\frac{r^3}{GM}}\n",
    "\\end{equation}\n",
    "\n",
    "Where $r$ is the distance from the center of mass and M is the mass within the filament. We use M = 9.4 Mo from Schmiedeke et al 2021."
   ]
  },
  {
   "cell_type": "code",
   "execution_count": 20,
   "id": "afc9622f-53f9-4204-a11a-c1e314365e5d",
   "metadata": {},
   "outputs": [],
   "source": [
    "w = (37 * dist_B5.value)*u.au # mean width along the filament\n",
    "radius_mean = w/2\n",
    "M_fil1_s = 9.4 * u.Msun\n",
    "t_ff = np.sqrt(radius_mean**3/(G * M_fil1_s))\n",
    "M_dot_ff_min = (M_tot_fil1_min / t_ff).to(u.Msun/u.yr)\n",
    "M_dot_ff_max = (M_tot_fil1_max / t_ff).to(u.Msun/u.yr)"
   ]
  },
  {
   "cell_type": "code",
   "execution_count": 29,
   "id": "948c856e-52a1-48f5-b3aa-a2779a03bddf",
   "metadata": {},
   "outputs": [
    {
     "name": "stdout",
     "output_type": "stream",
     "text": [
      "5.553133880571828e-05 solMass / yr 0.0005182924955200373 solMass / yr 21678.659006768896 yr\n"
     ]
    }
   ],
   "source": [
    "print(M_dot_ff_min, M_dot_ff_max, t_ff.to(u.yr))"
   ]
  },
  {
   "cell_type": "markdown",
   "id": "53793153-c1dc-42c9-8e49-c443f9c30910",
   "metadata": {},
   "source": [
    "## Estimate of the conversion factor between cyanoacetyline and hydrogen\n",
    "\n",
    "The range of values of the mass is one order of magnitude, only because the conversion factor [HC3N/H2] is not fully constrained. We can estimate a conversion factor using the found $n_{H2}$ from RADEX using\n",
    "\n",
    "\\begin{equation}\n",
    "X = \\Big[\\frac{HC_3N}{H_2}\\Big] = \\frac{N(HC_3N)}{n_{H_2}w}\n",
    "\\end{equation}\n",
    "where $w$ is a characteristic depth. We use 37 arcsec (about 11000 au)."
   ]
  },
  {
   "cell_type": "code",
   "execution_count": 22,
   "id": "994c6f1c-c56f-4435-8ecf-7254f03775df",
   "metadata": {},
   "outputs": [],
   "source": [
    "# look for other abundances\n",
    "\n",
    "n_H2 = 1.0e5 / u.cm**3\n",
    "X_fil1 = (mean_Ntot / (n_H2 * w)).decompose()"
   ]
  },
  {
   "cell_type": "code",
   "execution_count": 23,
   "id": "864bf966-9df3-4ffd-a4c1-78aa215bcc1d",
   "metadata": {},
   "outputs": [
    {
     "data": {
      "text/latex": [
       "$9.0081945 \\times 10^{-10} \\; \\mathrm{}$"
      ],
      "text/plain": [
       "<Quantity 9.00819453e-10>"
      ]
     },
     "execution_count": 23,
     "metadata": {},
     "output_type": "execute_result"
    }
   ],
   "source": [
    "X_fil1"
   ]
  },
  {
   "cell_type": "code",
   "execution_count": 24,
   "id": "6eaa83c7-5dbc-4f4f-bd76-6d973fc552e9",
   "metadata": {},
   "outputs": [
    {
     "name": "stdout",
     "output_type": "stream",
     "text": [
      "18.384661301339737 solMass\n",
      "3.7418884244829034 solMass\n"
     ]
    }
   ],
   "source": [
    "M_tot_X = (np.sum(Ntot_flat) * Apix_cm * mu_mass * amu).to(u.Msun) / X_fil1\n",
    "M_fil1_X = (np.sum(Ntot_fil1) * Apix_cm * mu_mass * amu).to(u.Msun) / X_fil1\n",
    "print(M_tot_X)\n",
    "print(M_fil1_X)"
   ]
  },
  {
   "cell_type": "markdown",
   "id": "2473b40c-8192-4ced-90ea-7edc9af442e2",
   "metadata": {},
   "source": [
    "I think we should take a conservative estimate of 2 Mo for Filament 1 mass and 6 Mo for the core."
   ]
  },
  {
   "cell_type": "code",
   "execution_count": 30,
   "id": "b7727ade-c0c4-4c6a-b0f9-6776d982edf8",
   "metadata": {},
   "outputs": [
    {
     "name": "stdout",
     "output_type": "stream",
     "text": [
      "357363.7510903963 1 / cm3\n"
     ]
    }
   ],
   "source": [
    "volume = np.pi * (0.05/2*u.pc)**2 * 0.2*u.pc\n",
    "n_estimate = (M_fil1_s / (mu_mass * amu) / volume).to(1/u.cm**3)\n",
    "print(n_estimate)"
   ]
  },
  {
   "cell_type": "code",
   "execution_count": 36,
   "id": "4d6991a2-5bcd-465e-8c74-2aa12a7ab4c1",
   "metadata": {},
   "outputs": [
    {
     "data": {
      "text/latex": [
       "$5.0193858 \\times 10^{22} \\; \\mathrm{\\frac{1}{cm^{2}}}$"
      ],
      "text/plain": [
       "<Quantity 5.01938583e+22 1 / cm2>"
      ]
     },
     "execution_count": 36,
     "metadata": {},
     "output_type": "execute_result"
    }
   ],
   "source": [
    "mean_Ntot / X_HC3N_min"
   ]
  },
  {
   "cell_type": "code",
   "execution_count": null,
   "id": "39bef0a6-e459-4a91-bb1c-3bd9ba5b6ce7",
   "metadata": {},
   "outputs": [],
   "source": []
  }
 ],
 "metadata": {
  "kernelspec": {
   "display_name": "Python 3 (ipykernel)",
   "language": "python",
   "name": "python3"
  },
  "language_info": {
   "codemirror_mode": {
    "name": "ipython",
    "version": 3
   },
   "file_extension": ".py",
   "mimetype": "text/x-python",
   "name": "python",
   "nbconvert_exporter": "python",
   "pygments_lexer": "ipython3",
   "version": "3.9.7"
  }
 },
 "nbformat": 4,
 "nbformat_minor": 5
}
