{
 "cells": [
  {
   "cell_type": "code",
   "execution_count": 1,
   "id": "2ac08c17-dae2-4d83-a59e-5b7353110e68",
   "metadata": {},
   "outputs": [],
   "source": [
    "\n",
    "# original resolution: 4.07672 arcsec x 3.78778 arcsec, pa: -81.4035 deg \n",
    "# matching kernel: 4.65325 arcsec x 4.40231 arcsec, pa: 8.59652 deg \n",
    "# target resolution: 6 arcsec x 6 arcsec, pa: 0 deg\n",
    "import numpy as np\n",
    "from astropy.modeling.models import Gaussian2D\n",
    "import astropy.units as u\n",
    "from photutils.psf import create_matching_kernel, TopHatWindow\n",
    "from astropy.io import fits\n",
    "from astropy.wcs import WCS\n",
    "import matplotlib.pyplot as plt\n",
    "from astropy.convolution import convolve\n"
   ]
  },
  {
   "cell_type": "code",
   "execution_count": 2,
   "id": "018c0aa0-fb31-48f6-8f9c-516709a159be",
   "metadata": {},
   "outputs": [],
   "source": [
    "filenameHC3Nvlsr = 'B5-NOEMA+30m-H3CN-10-9_cut_K_1G_fitparams_filtered_Vlsr'\n",
    "filenameNH3vlsr = '../../B5_wide_multiple/data/B5_VLA_GBT_model_vc_QA'\n",
    "maskfile = 'B5-NOEMA+30m-H3CN-10-9_cut_K_mask'\n",
    "filename_convolved = filenameHC3Nvlsr + '_conv_NH3'"
   ]
  },
  {
   "cell_type": "code",
   "execution_count": 3,
   "id": "7b57c0f6-9cc6-496d-a95c-9cb5f1e71af2",
   "metadata": {},
   "outputs": [],
   "source": [
    "# we first need to transform all angle units to pixels\n",
    "headerHC3N = fits.getheader(filenameHC3Nvlsr+'.fits')\n",
    "headerNH3 = fits.getheader(filenameNH3vlsr+'.fits')\n",
    "wcsHC3N = WCS(headerHC3N)\n",
    "\n",
    "HC3Nvlsr = fits.getdata(filenameHC3Nvlsr+'.fits')\n",
    "mask = fits.getdata(maskfile+'.fits')\n",
    "kernelsize = 29\n",
    "xcent = int(round(kernelsize/2))\n",
    "\n",
    "pixsizeHC3N = np.abs(headerHC3N['CDELT2']) # pixel size in degrees\n",
    "bmaj_original = headerHC3N['BMAJ']\n",
    "bmin_original = headerHC3N['BMIN']\n",
    "bpa_original = headerHC3N['BPA'] * u.deg\n",
    "sigmamaj_original_pix = (bmaj_original/pixsizeHC3N) / np.sqrt(8*np.log(2))\n",
    "sigmamin_original_pix = (bmin_original/pixsizeHC3N) / np.sqrt(8*np.log(2))\n",
    "\n",
    "bmaj_target = headerNH3['BMAJ']\n",
    "bmin_target = headerNH3['BMIN']\n",
    "bpa_target = headerNH3['BPA'] * u.deg\n",
    "sigmamaj_target_pix = (bmaj_target/pixsizeHC3N) / np.sqrt(8*np.log(2))\n",
    "sigmamin_target_pix = (bmin_target/pixsizeHC3N) / np.sqrt(8*np.log(2))"
   ]
  },
  {
   "cell_type": "code",
   "execution_count": 4,
   "id": "eb89541f-de7e-4f84-bf2b-d61aa60635e9",
   "metadata": {},
   "outputs": [],
   "source": [
    "y, x = np.mgrid[0:kernelsize, 0:kernelsize]\n",
    "beamoriginalg = Gaussian2D(100, xcent, xcent, sigmamaj_original_pix, sigmamin_original_pix, theta=bpa_original)\n",
    "beamtargetg = Gaussian2D(100, xcent, xcent, sigmamaj_target_pix, sigmamin_target_pix, theta=bpa_target)\n",
    "beamoriginal = beamoriginalg(x, y)\n",
    "beamtarget = beamtargetg(x, y)\n",
    "beamtarget /= np.sum(beamtarget)"
   ]
  },
  {
   "cell_type": "code",
   "execution_count": 5,
   "id": "08a21a7e-683d-4f68-b436-a522d95bbc82",
   "metadata": {},
   "outputs": [],
   "source": [
    "window = TopHatWindow(beta=0.45)\n",
    "matchingkernel = create_matching_kernel(beamoriginal, beamtarget, window=window)"
   ]
  },
  {
   "cell_type": "code",
   "execution_count": 6,
   "id": "4193dce7-af9e-4393-a454-ada2ab4d124a",
   "metadata": {},
   "outputs": [
    {
     "name": "stderr",
     "output_type": "stream",
     "text": [
      "WARNING: nan_treatment='interpolate', however, NaN values detected post convolution. A contiguous region of NaN values, larger than the kernel size, are present in the input array. Increase the kernel size to avoid this. [astropy.convolution.convolve]\n"
     ]
    }
   ],
   "source": [
    "HC3Nvlsrconvolved = convolve(HC3Nvlsr, matchingkernel)\n",
    "HC3Nvlsrconvolved = np.where(mask, HC3Nvlsrconvolved, np.nan)"
   ]
  },
  {
   "cell_type": "code",
   "execution_count": 9,
   "id": "1f3f8d33-711f-4e04-aead-67bbb829cb7b",
   "metadata": {},
   "outputs": [],
   "source": [
    "newheaderHC3N = headerHC3N.copy()\n",
    "newheaderHC3N['BMAJ'] = bmaj_target\n",
    "newheaderHC3N['BMIN'] = bmin_target\n",
    "newheaderHC3N['BPA'] = bpa_target.value\n",
    "\n",
    "fits.writeto(filename_convolved+'.fits', HC3Nvlsrconvolved, newheaderHC3N)"
   ]
  },
  {
   "cell_type": "code",
   "execution_count": null,
   "id": "48adee11-c74d-478e-8ffa-0c721f7c5286",
   "metadata": {},
   "outputs": [],
   "source": []
  },
  {
   "cell_type": "code",
   "execution_count": null,
   "id": "97c82554-6a5d-4622-b100-395585fb2221",
   "metadata": {},
   "outputs": [],
   "source": []
  }
 ],
 "metadata": {
  "kernelspec": {
   "display_name": "Python 3 (ipykernel)",
   "language": "python",
   "name": "python3"
  },
  "language_info": {
   "codemirror_mode": {
    "name": "ipython",
    "version": 3
   },
   "file_extension": ".py",
   "mimetype": "text/x-python",
   "name": "python",
   "nbconvert_exporter": "python",
   "pygments_lexer": "ipython3",
   "version": "3.9.7"
  }
 },
 "nbformat": 4,
 "nbformat_minor": 5
}
